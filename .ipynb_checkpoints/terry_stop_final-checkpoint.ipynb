{
 "cells": [
  {
   "cell_type": "markdown",
   "metadata": {},
   "source": [
    "---"
   ]
  },
  {
   "cell_type": "markdown",
   "metadata": {},
   "source": [
    "# <font color='yellow'>Import Modules & Read Data</font>"
   ]
  },
  {
   "cell_type": "markdown",
   "metadata": {},
   "source": [
    "---"
   ]
  },
  {
   "cell_type": "code",
   "execution_count": 475,
   "metadata": {},
   "outputs": [],
   "source": [
    "import pandas as pd\n",
    "import matplotlib.pyplot as plt\n",
    "import numpy as np\n",
    "import statsmodels.api as sm\n",
    "import seaborn as sns\n",
    "import scipy.stats as stats\n",
    "from statsmodels.formula.api import ols\n",
    "from sklearn.model_selection import train_test_split\n",
    "from sklearn.linear_model import LinearRegression\n",
    "from sklearn.linear_model import Lasso\n",
    "from sklearn import metrics\n",
    "from scipy.stats import median_test"
   ]
  },
  {
   "cell_type": "code",
   "execution_count": 442,
   "metadata": {},
   "outputs": [],
   "source": [
    "cat_df = pd.read_csv('cleaned_terry_stops.csv')\n",
    "cat_df = pd.read_csv('cleaned_terry_stops.csv')"
   ]
  },
  {
   "cell_type": "code",
   "execution_count": 443,
   "metadata": {},
   "outputs": [
    {
     "data": {
      "text/plain": [
       "Index(['dbn', 'school_name', 'school_type', 'enrollment',\n",
       "       'rigorous_instruction', 'collab_teachers', 'support_environ',\n",
       "       'effective_school_leadership', 'strong_fam_community_ties', 'trust',\n",
       "       'english_language_learners', 'students_disabilities', 'self_contained',\n",
       "       'economic_need_index', 'temp_housing', 'hra_eligible', 'asian', 'black',\n",
       "       'hispanic', 'white', 'teachers_3_or_more_yrs_exp',\n",
       "       'student_attendance_rate', 'chronically_absent',\n",
       "       'teacher_attendance_rate'],\n",
       "      dtype='object')"
      ]
     },
     "execution_count": 443,
     "metadata": {},
     "output_type": "execute_result"
    }
   ],
   "source": [
    "df.columns"
   ]
  },
  {
   "cell_type": "code",
   "execution_count": 444,
   "metadata": {},
   "outputs": [
    {
     "data": {
      "text/plain": [
       "(965, 24)"
      ]
     },
     "execution_count": 444,
     "metadata": {},
     "output_type": "execute_result"
    }
   ],
   "source": [
    "df.shape"
   ]
  },
  {
   "cell_type": "markdown",
   "metadata": {},
   "source": [
    "---"
   ]
  },
  {
   "cell_type": "markdown",
   "metadata": {},
   "source": [
    "# <font color='yellow'>Intro</font>"
   ]
  },
  {
   "cell_type": "markdown",
   "metadata": {},
   "source": [
    "---"
   ]
  },
  {
   "cell_type": "markdown",
   "metadata": {},
   "source": [
    "## Approach"
   ]
  },
  {
   "cell_type": "markdown",
   "metadata": {},
   "source": [
    "---"
   ]
  },
  {
   "cell_type": "markdown",
   "metadata": {},
   "source": [
    "I intend to discover which variables, in the NYC School Quality Report (SQR) for the 2018-19 school year, most affect student attendance rates for NYC's elementary and middle public schools. In my data cleaning process I eliminated charter schools because many choose not to be evaluated by the SQR and instead are evaluated by means authorized by the Chancellor, State University of New York Trustees, and/or by the NY State Education Board of Regents. The vast majority of my parameters are in percentages so a linear regression model will be used to analyze the independents variables' relationship to the attendance rates. "
   ]
  },
  {
   "cell_type": "markdown",
   "metadata": {},
   "source": [
    "---"
   ]
  },
  {
   "cell_type": "markdown",
   "metadata": {},
   "source": [
    "## Big Questions"
   ]
  },
  {
   "cell_type": "markdown",
   "metadata": {},
   "source": [
    "---"
   ]
  },
  {
   "cell_type": "markdown",
   "metadata": {},
   "source": [
    "**3 meaningful questions:**<br>\n",
    "- Does the Economic Need Index have a statistically significant impact on the attendance rates of NYC public schools?<br>\n",
    "- Is there a statistically significant difference between teachers with 3 or more years of experience and student attendance rates?<br>\n",
    "- Is there a strong negative correlation between schools with a high percentage of chronic absences and attendance rates?<br>"
   ]
  },
  {
   "cell_type": "markdown",
   "metadata": {},
   "source": [
    "---"
   ]
  },
  {
   "cell_type": "markdown",
   "metadata": {},
   "source": [
    "# <font color='yellow'>Engineered Features</font>"
   ]
  },
  {
   "cell_type": "markdown",
   "metadata": {},
   "source": [
    "---"
   ]
  },
  {
   "cell_type": "markdown",
   "metadata": {},
   "source": [
    "Make a new column with values 0-25 = 4, 25-50 = 3, 50-75 = 2, 75-1 = 1"
   ]
  },
  {
   "cell_type": "code",
   "execution_count": 445,
   "metadata": {},
   "outputs": [],
   "source": [
    "df['economic_need_index_cat'] = pd.cut(df.economic_need_index, bins=[0,.25,.50,.75,1], labels=[4,3,2,1])"
   ]
  },
  {
   "cell_type": "markdown",
   "metadata": {},
   "source": [
    "Column for upper 75% of economic need index. According to the Office of the  NYC Comptroller, schools in the lowest quintile of the economic need index had a 51% graduation rate compared to the highest quintile with a 96% graduation rate. I want to see if the top 25% has any effect. "
   ]
  },
  {
   "cell_type": "code",
   "execution_count": 446,
   "metadata": {},
   "outputs": [],
   "source": [
    "df['pct_75_economic_need_index'] = np.where((df.economic_need_index >= .75), 1, 0)"
   ]
  },
  {
   "cell_type": "markdown",
   "metadata": {},
   "source": [
    "According to non-profit edbuild.org majority \"white\" (more than 75% white) school districts receive $23 billion more than non-white schools (https://edbuild.org/content/23-billion/full-report.pdf). I made a columns to represent schools with majority populations of a single race."
   ]
  },
  {
   "cell_type": "code",
   "execution_count": 447,
   "metadata": {},
   "outputs": [],
   "source": [
    "df['majority_white'] = np.where((df.white >= .75), 1, 0)"
   ]
  },
  {
   "cell_type": "code",
   "execution_count": 448,
   "metadata": {},
   "outputs": [],
   "source": [
    "df['majority_asian'] = np.where((df.asian >= .75), 1, 0)"
   ]
  },
  {
   "cell_type": "code",
   "execution_count": 449,
   "metadata": {},
   "outputs": [],
   "source": [
    "df['majority_black'] = np.where((df.black >= .75), 1, 0)"
   ]
  },
  {
   "cell_type": "code",
   "execution_count": 450,
   "metadata": {},
   "outputs": [],
   "source": [
    "df['majority_hispanic'] = np.where((df.hispanic >= .75), 1, 0)"
   ]
  },
  {
   "cell_type": "markdown",
   "metadata": {},
   "source": [
    "Created a new column with the student attendance rate capped at .85 for its lower values due to 2 outliers."
   ]
  },
  {
   "cell_type": "code",
   "execution_count": 451,
   "metadata": {},
   "outputs": [],
   "source": [
    "df['student_attendance_rate_cap'] = np.where((df.student_attendance_rate <= .84), .85, df.student_attendance_rate)"
   ]
  },
  {
   "cell_type": "markdown",
   "metadata": {},
   "source": [
    "Created interactions "
   ]
  },
  {
   "cell_type": "code",
   "execution_count": 467,
   "metadata": {},
   "outputs": [],
   "source": [
    "df['self_c_disabilities'] = df['students_disabilities']*df['self_contained']\n",
    "df['hra_temp'] = df['temp_housing']*df['hra_eligible']\n",
    "df['asian_econ'] = df['asian']*df['economic_need_index']"
   ]
  },
  {
   "cell_type": "code",
   "execution_count": 468,
   "metadata": {},
   "outputs": [
    {
     "data": {
      "text/plain": [
       "Index(['dbn', 'school_name', 'school_type', 'enrollment',\n",
       "       'rigorous_instruction', 'collab_teachers', 'support_environ',\n",
       "       'effective_school_leadership', 'strong_fam_community_ties', 'trust',\n",
       "       'english_language_learners', 'students_disabilities', 'self_contained',\n",
       "       'economic_need_index', 'temp_housing', 'hra_eligible', 'asian', 'black',\n",
       "       'hispanic', 'white', 'teachers_3_or_more_yrs_exp',\n",
       "       'student_attendance_rate', 'chronically_absent',\n",
       "       'teacher_attendance_rate', 'economic_need_index_cat',\n",
       "       'pct_75_economic_need_index', 'majority_white', 'majority_asian',\n",
       "       'majority_black', 'majority_hispanic', 'student_attendance_rate_cap',\n",
       "       'self_c_disabilities', 'hra_temp', 'asian_econ'],\n",
       "      dtype='object')"
      ]
     },
     "execution_count": 468,
     "metadata": {},
     "output_type": "execute_result"
    }
   ],
   "source": [
    "df.columns"
   ]
  },
  {
   "cell_type": "markdown",
   "metadata": {},
   "source": [
    "---"
   ]
  },
  {
   "cell_type": "markdown",
   "metadata": {},
   "source": [
    "# <font color='yellow'>Statistical Tests</font>"
   ]
  },
  {
   "cell_type": "markdown",
   "metadata": {},
   "source": [
    "---"
   ]
  },
  {
   "cell_type": "markdown",
   "metadata": {},
   "source": [
    "### Test - 1"
   ]
  },
  {
   "cell_type": "code",
   "execution_count": 454,
   "metadata": {},
   "outputs": [],
   "source": [
    "corr = df.corr()"
   ]
  },
  {
   "cell_type": "code",
   "execution_count": 455,
   "metadata": {
    "scrolled": true
   },
   "outputs": [
    {
     "data": {
      "text/html": [
       "<div>\n",
       "<style scoped>\n",
       "    .dataframe tbody tr th:only-of-type {\n",
       "        vertical-align: middle;\n",
       "    }\n",
       "\n",
       "    .dataframe tbody tr th {\n",
       "        vertical-align: top;\n",
       "    }\n",
       "\n",
       "    .dataframe thead th {\n",
       "        text-align: right;\n",
       "    }\n",
       "</style>\n",
       "<table border=\"1\" class=\"dataframe\">\n",
       "  <thead>\n",
       "    <tr style=\"text-align: right;\">\n",
       "      <th></th>\n",
       "      <th>enrollment</th>\n",
       "      <th>rigorous_instruction</th>\n",
       "      <th>collab_teachers</th>\n",
       "      <th>support_environ</th>\n",
       "      <th>effective_school_leadership</th>\n",
       "      <th>strong_fam_community_ties</th>\n",
       "      <th>trust</th>\n",
       "      <th>english_language_learners</th>\n",
       "      <th>students_disabilities</th>\n",
       "      <th>self_contained</th>\n",
       "      <th>...</th>\n",
       "      <th>student_attendance_rate</th>\n",
       "      <th>chronically_absent</th>\n",
       "      <th>teacher_attendance_rate</th>\n",
       "      <th>pct_75_economic_need_index</th>\n",
       "      <th>majority_white</th>\n",
       "      <th>majority_asian</th>\n",
       "      <th>majority_black</th>\n",
       "      <th>majority_hispanic</th>\n",
       "      <th>student_attendance_rate_cap</th>\n",
       "      <th>self_c_disabilities</th>\n",
       "    </tr>\n",
       "  </thead>\n",
       "  <tbody>\n",
       "    <tr>\n",
       "      <th>enrollment</th>\n",
       "      <td>1.000000</td>\n",
       "      <td>0.054143</td>\n",
       "      <td>0.034292</td>\n",
       "      <td>0.074983</td>\n",
       "      <td>-0.023563</td>\n",
       "      <td>-0.113532</td>\n",
       "      <td>0.000965</td>\n",
       "      <td>0.198048</td>\n",
       "      <td>-0.458664</td>\n",
       "      <td>-0.132190</td>\n",
       "      <td>...</td>\n",
       "      <td>0.371440</td>\n",
       "      <td>-0.355375</td>\n",
       "      <td>-0.119966</td>\n",
       "      <td>-0.215181</td>\n",
       "      <td>0.038167</td>\n",
       "      <td>0.093670</td>\n",
       "      <td>-0.143273</td>\n",
       "      <td>-0.013227</td>\n",
       "      <td>0.381648</td>\n",
       "      <td>-0.236863</td>\n",
       "    </tr>\n",
       "    <tr>\n",
       "      <th>rigorous_instruction</th>\n",
       "      <td>0.054143</td>\n",
       "      <td>1.000000</td>\n",
       "      <td>0.834973</td>\n",
       "      <td>0.788036</td>\n",
       "      <td>0.785521</td>\n",
       "      <td>0.444640</td>\n",
       "      <td>0.760575</td>\n",
       "      <td>-0.086402</td>\n",
       "      <td>-0.246845</td>\n",
       "      <td>-0.276040</td>\n",
       "      <td>...</td>\n",
       "      <td>0.313577</td>\n",
       "      <td>-0.330030</td>\n",
       "      <td>0.145128</td>\n",
       "      <td>-0.243812</td>\n",
       "      <td>0.058073</td>\n",
       "      <td>0.052343</td>\n",
       "      <td>-0.022216</td>\n",
       "      <td>-0.024676</td>\n",
       "      <td>0.314994</td>\n",
       "      <td>-0.264170</td>\n",
       "    </tr>\n",
       "    <tr>\n",
       "      <th>collab_teachers</th>\n",
       "      <td>0.034292</td>\n",
       "      <td>0.834973</td>\n",
       "      <td>1.000000</td>\n",
       "      <td>0.720587</td>\n",
       "      <td>0.918153</td>\n",
       "      <td>0.461629</td>\n",
       "      <td>0.902071</td>\n",
       "      <td>-0.043235</td>\n",
       "      <td>-0.174741</td>\n",
       "      <td>-0.196866</td>\n",
       "      <td>...</td>\n",
       "      <td>0.240320</td>\n",
       "      <td>-0.248044</td>\n",
       "      <td>0.166541</td>\n",
       "      <td>-0.179527</td>\n",
       "      <td>0.044132</td>\n",
       "      <td>0.053516</td>\n",
       "      <td>0.018456</td>\n",
       "      <td>-0.015410</td>\n",
       "      <td>0.240775</td>\n",
       "      <td>-0.190916</td>\n",
       "    </tr>\n",
       "    <tr>\n",
       "      <th>support_environ</th>\n",
       "      <td>0.074983</td>\n",
       "      <td>0.788036</td>\n",
       "      <td>0.720587</td>\n",
       "      <td>1.000000</td>\n",
       "      <td>0.601279</td>\n",
       "      <td>0.600529</td>\n",
       "      <td>0.699714</td>\n",
       "      <td>0.052195</td>\n",
       "      <td>-0.255675</td>\n",
       "      <td>-0.227811</td>\n",
       "      <td>...</td>\n",
       "      <td>0.307892</td>\n",
       "      <td>-0.304059</td>\n",
       "      <td>0.136418</td>\n",
       "      <td>-0.236749</td>\n",
       "      <td>0.030942</td>\n",
       "      <td>0.105643</td>\n",
       "      <td>-0.058866</td>\n",
       "      <td>0.003231</td>\n",
       "      <td>0.312456</td>\n",
       "      <td>-0.231895</td>\n",
       "    </tr>\n",
       "    <tr>\n",
       "      <th>effective_school_leadership</th>\n",
       "      <td>-0.023563</td>\n",
       "      <td>0.785521</td>\n",
       "      <td>0.918153</td>\n",
       "      <td>0.601279</td>\n",
       "      <td>1.000000</td>\n",
       "      <td>0.405167</td>\n",
       "      <td>0.884261</td>\n",
       "      <td>-0.038793</td>\n",
       "      <td>-0.130049</td>\n",
       "      <td>-0.172526</td>\n",
       "      <td>...</td>\n",
       "      <td>0.196734</td>\n",
       "      <td>-0.216479</td>\n",
       "      <td>0.140200</td>\n",
       "      <td>-0.120736</td>\n",
       "      <td>0.024854</td>\n",
       "      <td>0.047625</td>\n",
       "      <td>0.041127</td>\n",
       "      <td>-0.010601</td>\n",
       "      <td>0.202294</td>\n",
       "      <td>-0.162643</td>\n",
       "    </tr>\n",
       "    <tr>\n",
       "      <th>strong_fam_community_ties</th>\n",
       "      <td>-0.113532</td>\n",
       "      <td>0.444640</td>\n",
       "      <td>0.461629</td>\n",
       "      <td>0.600529</td>\n",
       "      <td>0.405167</td>\n",
       "      <td>1.000000</td>\n",
       "      <td>0.509791</td>\n",
       "      <td>0.013809</td>\n",
       "      <td>-0.032723</td>\n",
       "      <td>-0.097620</td>\n",
       "      <td>...</td>\n",
       "      <td>0.148121</td>\n",
       "      <td>-0.131471</td>\n",
       "      <td>0.092489</td>\n",
       "      <td>-0.176056</td>\n",
       "      <td>0.066950</td>\n",
       "      <td>0.054725</td>\n",
       "      <td>0.034732</td>\n",
       "      <td>0.001447</td>\n",
       "      <td>0.126400</td>\n",
       "      <td>-0.065584</td>\n",
       "    </tr>\n",
       "    <tr>\n",
       "      <th>trust</th>\n",
       "      <td>0.000965</td>\n",
       "      <td>0.760575</td>\n",
       "      <td>0.902071</td>\n",
       "      <td>0.699714</td>\n",
       "      <td>0.884261</td>\n",
       "      <td>0.509791</td>\n",
       "      <td>1.000000</td>\n",
       "      <td>0.026826</td>\n",
       "      <td>-0.109379</td>\n",
       "      <td>-0.160697</td>\n",
       "      <td>...</td>\n",
       "      <td>0.189838</td>\n",
       "      <td>-0.197162</td>\n",
       "      <td>0.139378</td>\n",
       "      <td>-0.105276</td>\n",
       "      <td>0.022648</td>\n",
       "      <td>0.062374</td>\n",
       "      <td>-0.010581</td>\n",
       "      <td>0.038604</td>\n",
       "      <td>0.191415</td>\n",
       "      <td>-0.147849</td>\n",
       "    </tr>\n",
       "    <tr>\n",
       "      <th>english_language_learners</th>\n",
       "      <td>0.198048</td>\n",
       "      <td>-0.086402</td>\n",
       "      <td>-0.043235</td>\n",
       "      <td>0.052195</td>\n",
       "      <td>-0.038793</td>\n",
       "      <td>0.013809</td>\n",
       "      <td>0.026826</td>\n",
       "      <td>1.000000</td>\n",
       "      <td>-0.030432</td>\n",
       "      <td>0.146010</td>\n",
       "      <td>...</td>\n",
       "      <td>0.022556</td>\n",
       "      <td>0.001900</td>\n",
       "      <td>-0.106997</td>\n",
       "      <td>0.395583</td>\n",
       "      <td>-0.065153</td>\n",
       "      <td>0.193572</td>\n",
       "      <td>-0.204660</td>\n",
       "      <td>0.470329</td>\n",
       "      <td>0.031949</td>\n",
       "      <td>0.071186</td>\n",
       "    </tr>\n",
       "    <tr>\n",
       "      <th>students_disabilities</th>\n",
       "      <td>-0.458664</td>\n",
       "      <td>-0.246845</td>\n",
       "      <td>-0.174741</td>\n",
       "      <td>-0.255675</td>\n",
       "      <td>-0.130049</td>\n",
       "      <td>-0.032723</td>\n",
       "      <td>-0.109379</td>\n",
       "      <td>-0.030432</td>\n",
       "      <td>1.000000</td>\n",
       "      <td>0.596136</td>\n",
       "      <td>...</td>\n",
       "      <td>-0.600727</td>\n",
       "      <td>0.620374</td>\n",
       "      <td>-0.035149</td>\n",
       "      <td>0.459596</td>\n",
       "      <td>-0.072147</td>\n",
       "      <td>-0.144789</td>\n",
       "      <td>0.067924</td>\n",
       "      <td>0.070095</td>\n",
       "      <td>-0.628109</td>\n",
       "      <td>0.717923</td>\n",
       "    </tr>\n",
       "    <tr>\n",
       "      <th>self_contained</th>\n",
       "      <td>-0.132190</td>\n",
       "      <td>-0.276040</td>\n",
       "      <td>-0.196866</td>\n",
       "      <td>-0.227811</td>\n",
       "      <td>-0.172526</td>\n",
       "      <td>-0.097620</td>\n",
       "      <td>-0.160697</td>\n",
       "      <td>0.146010</td>\n",
       "      <td>0.596136</td>\n",
       "      <td>1.000000</td>\n",
       "      <td>...</td>\n",
       "      <td>-0.527554</td>\n",
       "      <td>0.585541</td>\n",
       "      <td>-0.162907</td>\n",
       "      <td>0.456474</td>\n",
       "      <td>-0.063902</td>\n",
       "      <td>-0.094939</td>\n",
       "      <td>0.089730</td>\n",
       "      <td>0.102079</td>\n",
       "      <td>-0.563071</td>\n",
       "      <td>0.951274</td>\n",
       "    </tr>\n",
       "    <tr>\n",
       "      <th>economic_need_index</th>\n",
       "      <td>-0.187777</td>\n",
       "      <td>-0.303059</td>\n",
       "      <td>-0.205662</td>\n",
       "      <td>-0.283555</td>\n",
       "      <td>-0.144322</td>\n",
       "      <td>-0.205642</td>\n",
       "      <td>-0.134196</td>\n",
       "      <td>0.455368</td>\n",
       "      <td>0.494069</td>\n",
       "      <td>0.541624</td>\n",
       "      <td>...</td>\n",
       "      <td>-0.595275</td>\n",
       "      <td>0.661037</td>\n",
       "      <td>-0.112157</td>\n",
       "      <td>0.820053</td>\n",
       "      <td>-0.204043</td>\n",
       "      <td>0.011758</td>\n",
       "      <td>0.056054</td>\n",
       "      <td>0.293933</td>\n",
       "      <td>-0.622820</td>\n",
       "      <td>0.496942</td>\n",
       "    </tr>\n",
       "    <tr>\n",
       "      <th>temp_housing</th>\n",
       "      <td>-0.363258</td>\n",
       "      <td>-0.248838</td>\n",
       "      <td>-0.195359</td>\n",
       "      <td>-0.268188</td>\n",
       "      <td>-0.136250</td>\n",
       "      <td>-0.092673</td>\n",
       "      <td>-0.126763</td>\n",
       "      <td>0.268978</td>\n",
       "      <td>0.575952</td>\n",
       "      <td>0.528658</td>\n",
       "      <td>...</td>\n",
       "      <td>-0.675000</td>\n",
       "      <td>0.714920</td>\n",
       "      <td>-0.046712</td>\n",
       "      <td>0.696363</td>\n",
       "      <td>-0.123255</td>\n",
       "      <td>-0.094862</td>\n",
       "      <td>0.083939</td>\n",
       "      <td>0.263629</td>\n",
       "      <td>-0.701769</td>\n",
       "      <td>0.536366</td>\n",
       "    </tr>\n",
       "    <tr>\n",
       "      <th>hra_eligible</th>\n",
       "      <td>-0.177764</td>\n",
       "      <td>-0.308687</td>\n",
       "      <td>-0.213288</td>\n",
       "      <td>-0.284807</td>\n",
       "      <td>-0.154999</td>\n",
       "      <td>-0.206292</td>\n",
       "      <td>-0.142664</td>\n",
       "      <td>0.458627</td>\n",
       "      <td>0.502229</td>\n",
       "      <td>0.562199</td>\n",
       "      <td>...</td>\n",
       "      <td>-0.612891</td>\n",
       "      <td>0.678965</td>\n",
       "      <td>-0.128466</td>\n",
       "      <td>0.830507</td>\n",
       "      <td>-0.189874</td>\n",
       "      <td>0.013202</td>\n",
       "      <td>0.057770</td>\n",
       "      <td>0.282700</td>\n",
       "      <td>-0.639494</td>\n",
       "      <td>0.516485</td>\n",
       "    </tr>\n",
       "    <tr>\n",
       "      <th>asian</th>\n",
       "      <td>0.443760</td>\n",
       "      <td>0.170610</td>\n",
       "      <td>0.131297</td>\n",
       "      <td>0.254970</td>\n",
       "      <td>0.084360</td>\n",
       "      <td>0.029096</td>\n",
       "      <td>0.100906</td>\n",
       "      <td>0.132693</td>\n",
       "      <td>-0.493911</td>\n",
       "      <td>-0.297535</td>\n",
       "      <td>...</td>\n",
       "      <td>0.550251</td>\n",
       "      <td>-0.524275</td>\n",
       "      <td>-0.014547</td>\n",
       "      <td>-0.348267</td>\n",
       "      <td>-0.047215</td>\n",
       "      <td>0.462926</td>\n",
       "      <td>-0.174240</td>\n",
       "      <td>-0.251987</td>\n",
       "      <td>0.578535</td>\n",
       "      <td>-0.333359</td>\n",
       "    </tr>\n",
       "    <tr>\n",
       "      <th>black</th>\n",
       "      <td>-0.416197</td>\n",
       "      <td>-0.219258</td>\n",
       "      <td>-0.153810</td>\n",
       "      <td>-0.285517</td>\n",
       "      <td>-0.097530</td>\n",
       "      <td>-0.101440</td>\n",
       "      <td>-0.167215</td>\n",
       "      <td>-0.378095</td>\n",
       "      <td>0.372379</td>\n",
       "      <td>0.325121</td>\n",
       "      <td>...</td>\n",
       "      <td>-0.527154</td>\n",
       "      <td>0.544508</td>\n",
       "      <td>-0.009190</td>\n",
       "      <td>0.269688</td>\n",
       "      <td>-0.089068</td>\n",
       "      <td>-0.122776</td>\n",
       "      <td>0.587634</td>\n",
       "      <td>-0.282513</td>\n",
       "      <td>-0.557910</td>\n",
       "      <td>0.335654</td>\n",
       "    </tr>\n",
       "    <tr>\n",
       "      <th>hispanic</th>\n",
       "      <td>-0.047887</td>\n",
       "      <td>-0.115387</td>\n",
       "      <td>-0.090363</td>\n",
       "      <td>-0.111907</td>\n",
       "      <td>-0.063623</td>\n",
       "      <td>-0.063171</td>\n",
       "      <td>-0.018808</td>\n",
       "      <td>0.519243</td>\n",
       "      <td>0.275120</td>\n",
       "      <td>0.249369</td>\n",
       "      <td>...</td>\n",
       "      <td>-0.220465</td>\n",
       "      <td>0.235486</td>\n",
       "      <td>-0.065005</td>\n",
       "      <td>0.477181</td>\n",
       "      <td>-0.109815</td>\n",
       "      <td>-0.158853</td>\n",
       "      <td>-0.334778</td>\n",
       "      <td>0.675400</td>\n",
       "      <td>-0.229227</td>\n",
       "      <td>0.221502</td>\n",
       "    </tr>\n",
       "    <tr>\n",
       "      <th>white</th>\n",
       "      <td>0.197276</td>\n",
       "      <td>0.273532</td>\n",
       "      <td>0.197016</td>\n",
       "      <td>0.271602</td>\n",
       "      <td>0.132816</td>\n",
       "      <td>0.182238</td>\n",
       "      <td>0.151269</td>\n",
       "      <td>-0.274518</td>\n",
       "      <td>-0.363956</td>\n",
       "      <td>-0.455401</td>\n",
       "      <td>...</td>\n",
       "      <td>0.453114</td>\n",
       "      <td>-0.516741</td>\n",
       "      <td>0.102116</td>\n",
       "      <td>-0.618021</td>\n",
       "      <td>0.327640</td>\n",
       "      <td>-0.068994</td>\n",
       "      <td>-0.163951</td>\n",
       "      <td>-0.247538</td>\n",
       "      <td>0.476112</td>\n",
       "      <td>-0.399004</td>\n",
       "    </tr>\n",
       "    <tr>\n",
       "      <th>teachers_3_or_more_yrs_exp</th>\n",
       "      <td>0.215523</td>\n",
       "      <td>0.208089</td>\n",
       "      <td>0.216765</td>\n",
       "      <td>0.218324</td>\n",
       "      <td>0.139610</td>\n",
       "      <td>0.097443</td>\n",
       "      <td>0.171304</td>\n",
       "      <td>-0.033922</td>\n",
       "      <td>-0.204034</td>\n",
       "      <td>-0.032029</td>\n",
       "      <td>...</td>\n",
       "      <td>0.166721</td>\n",
       "      <td>-0.152347</td>\n",
       "      <td>-0.200273</td>\n",
       "      <td>-0.225010</td>\n",
       "      <td>0.023564</td>\n",
       "      <td>0.033240</td>\n",
       "      <td>0.073545</td>\n",
       "      <td>-0.061122</td>\n",
       "      <td>0.164510</td>\n",
       "      <td>-0.079938</td>\n",
       "    </tr>\n",
       "    <tr>\n",
       "      <th>student_attendance_rate</th>\n",
       "      <td>0.371440</td>\n",
       "      <td>0.313577</td>\n",
       "      <td>0.240320</td>\n",
       "      <td>0.307892</td>\n",
       "      <td>0.196734</td>\n",
       "      <td>0.148121</td>\n",
       "      <td>0.189838</td>\n",
       "      <td>0.022556</td>\n",
       "      <td>-0.600727</td>\n",
       "      <td>-0.527554</td>\n",
       "      <td>...</td>\n",
       "      <td>1.000000</td>\n",
       "      <td>-0.962100</td>\n",
       "      <td>0.105897</td>\n",
       "      <td>-0.542233</td>\n",
       "      <td>0.068005</td>\n",
       "      <td>0.213958</td>\n",
       "      <td>-0.141387</td>\n",
       "      <td>0.010654</td>\n",
       "      <td>0.967507</td>\n",
       "      <td>-0.539574</td>\n",
       "    </tr>\n",
       "    <tr>\n",
       "      <th>chronically_absent</th>\n",
       "      <td>-0.355375</td>\n",
       "      <td>-0.330030</td>\n",
       "      <td>-0.248044</td>\n",
       "      <td>-0.304059</td>\n",
       "      <td>-0.216479</td>\n",
       "      <td>-0.131471</td>\n",
       "      <td>-0.197162</td>\n",
       "      <td>0.001900</td>\n",
       "      <td>0.620374</td>\n",
       "      <td>0.585541</td>\n",
       "      <td>...</td>\n",
       "      <td>-0.962100</td>\n",
       "      <td>1.000000</td>\n",
       "      <td>-0.117978</td>\n",
       "      <td>0.592113</td>\n",
       "      <td>-0.091760</td>\n",
       "      <td>-0.181320</td>\n",
       "      <td>0.146792</td>\n",
       "      <td>-0.005509</td>\n",
       "      <td>-0.978973</td>\n",
       "      <td>0.590302</td>\n",
       "    </tr>\n",
       "    <tr>\n",
       "      <th>teacher_attendance_rate</th>\n",
       "      <td>-0.119966</td>\n",
       "      <td>0.145128</td>\n",
       "      <td>0.166541</td>\n",
       "      <td>0.136418</td>\n",
       "      <td>0.140200</td>\n",
       "      <td>0.092489</td>\n",
       "      <td>0.139378</td>\n",
       "      <td>-0.106997</td>\n",
       "      <td>-0.035149</td>\n",
       "      <td>-0.162907</td>\n",
       "      <td>...</td>\n",
       "      <td>0.105897</td>\n",
       "      <td>-0.117978</td>\n",
       "      <td>1.000000</td>\n",
       "      <td>-0.054578</td>\n",
       "      <td>0.003012</td>\n",
       "      <td>0.016510</td>\n",
       "      <td>0.014048</td>\n",
       "      <td>-0.043891</td>\n",
       "      <td>0.113006</td>\n",
       "      <td>-0.112117</td>\n",
       "    </tr>\n",
       "    <tr>\n",
       "      <th>pct_75_economic_need_index</th>\n",
       "      <td>-0.215181</td>\n",
       "      <td>-0.243812</td>\n",
       "      <td>-0.179527</td>\n",
       "      <td>-0.236749</td>\n",
       "      <td>-0.120736</td>\n",
       "      <td>-0.176056</td>\n",
       "      <td>-0.105276</td>\n",
       "      <td>0.395583</td>\n",
       "      <td>0.459596</td>\n",
       "      <td>0.456474</td>\n",
       "      <td>...</td>\n",
       "      <td>-0.542233</td>\n",
       "      <td>0.592113</td>\n",
       "      <td>-0.054578</td>\n",
       "      <td>1.000000</td>\n",
       "      <td>-0.116453</td>\n",
       "      <td>-0.022072</td>\n",
       "      <td>0.022162</td>\n",
       "      <td>0.295606</td>\n",
       "      <td>-0.568779</td>\n",
       "      <td>0.443605</td>\n",
       "    </tr>\n",
       "    <tr>\n",
       "      <th>majority_white</th>\n",
       "      <td>0.038167</td>\n",
       "      <td>0.058073</td>\n",
       "      <td>0.044132</td>\n",
       "      <td>0.030942</td>\n",
       "      <td>0.024854</td>\n",
       "      <td>0.066950</td>\n",
       "      <td>0.022648</td>\n",
       "      <td>-0.065153</td>\n",
       "      <td>-0.072147</td>\n",
       "      <td>-0.063902</td>\n",
       "      <td>...</td>\n",
       "      <td>0.068005</td>\n",
       "      <td>-0.091760</td>\n",
       "      <td>0.003012</td>\n",
       "      <td>-0.116453</td>\n",
       "      <td>1.000000</td>\n",
       "      <td>-0.011489</td>\n",
       "      <td>-0.025570</td>\n",
       "      <td>-0.039224</td>\n",
       "      <td>0.071403</td>\n",
       "      <td>-0.057064</td>\n",
       "    </tr>\n",
       "    <tr>\n",
       "      <th>majority_asian</th>\n",
       "      <td>0.093670</td>\n",
       "      <td>0.052343</td>\n",
       "      <td>0.053516</td>\n",
       "      <td>0.105643</td>\n",
       "      <td>0.047625</td>\n",
       "      <td>0.054725</td>\n",
       "      <td>0.062374</td>\n",
       "      <td>0.193572</td>\n",
       "      <td>-0.144789</td>\n",
       "      <td>-0.094939</td>\n",
       "      <td>...</td>\n",
       "      <td>0.213958</td>\n",
       "      <td>-0.181320</td>\n",
       "      <td>0.016510</td>\n",
       "      <td>-0.022072</td>\n",
       "      <td>-0.011489</td>\n",
       "      <td>1.000000</td>\n",
       "      <td>-0.035142</td>\n",
       "      <td>-0.053908</td>\n",
       "      <td>0.226227</td>\n",
       "      <td>-0.091036</td>\n",
       "    </tr>\n",
       "    <tr>\n",
       "      <th>majority_black</th>\n",
       "      <td>-0.143273</td>\n",
       "      <td>-0.022216</td>\n",
       "      <td>0.018456</td>\n",
       "      <td>-0.058866</td>\n",
       "      <td>0.041127</td>\n",
       "      <td>0.034732</td>\n",
       "      <td>-0.010581</td>\n",
       "      <td>-0.204660</td>\n",
       "      <td>0.067924</td>\n",
       "      <td>0.089730</td>\n",
       "      <td>...</td>\n",
       "      <td>-0.141387</td>\n",
       "      <td>0.146792</td>\n",
       "      <td>0.014048</td>\n",
       "      <td>0.022162</td>\n",
       "      <td>-0.025570</td>\n",
       "      <td>-0.035142</td>\n",
       "      <td>1.000000</td>\n",
       "      <td>-0.119979</td>\n",
       "      <td>-0.148753</td>\n",
       "      <td>0.082600</td>\n",
       "    </tr>\n",
       "    <tr>\n",
       "      <th>majority_hispanic</th>\n",
       "      <td>-0.013227</td>\n",
       "      <td>-0.024676</td>\n",
       "      <td>-0.015410</td>\n",
       "      <td>0.003231</td>\n",
       "      <td>-0.010601</td>\n",
       "      <td>0.001447</td>\n",
       "      <td>0.038604</td>\n",
       "      <td>0.470329</td>\n",
       "      <td>0.070095</td>\n",
       "      <td>0.102079</td>\n",
       "      <td>...</td>\n",
       "      <td>0.010654</td>\n",
       "      <td>-0.005509</td>\n",
       "      <td>-0.043891</td>\n",
       "      <td>0.295606</td>\n",
       "      <td>-0.039224</td>\n",
       "      <td>-0.053908</td>\n",
       "      <td>-0.119979</td>\n",
       "      <td>1.000000</td>\n",
       "      <td>0.007145</td>\n",
       "      <td>0.074278</td>\n",
       "    </tr>\n",
       "    <tr>\n",
       "      <th>student_attendance_rate_cap</th>\n",
       "      <td>0.381648</td>\n",
       "      <td>0.314994</td>\n",
       "      <td>0.240775</td>\n",
       "      <td>0.312456</td>\n",
       "      <td>0.202294</td>\n",
       "      <td>0.126400</td>\n",
       "      <td>0.191415</td>\n",
       "      <td>0.031949</td>\n",
       "      <td>-0.628109</td>\n",
       "      <td>-0.563071</td>\n",
       "      <td>...</td>\n",
       "      <td>0.967507</td>\n",
       "      <td>-0.978973</td>\n",
       "      <td>0.113006</td>\n",
       "      <td>-0.568779</td>\n",
       "      <td>0.071403</td>\n",
       "      <td>0.226227</td>\n",
       "      <td>-0.148753</td>\n",
       "      <td>0.007145</td>\n",
       "      <td>1.000000</td>\n",
       "      <td>-0.573917</td>\n",
       "    </tr>\n",
       "    <tr>\n",
       "      <th>self_c_disabilities</th>\n",
       "      <td>-0.236863</td>\n",
       "      <td>-0.264170</td>\n",
       "      <td>-0.190916</td>\n",
       "      <td>-0.231895</td>\n",
       "      <td>-0.162643</td>\n",
       "      <td>-0.065584</td>\n",
       "      <td>-0.147849</td>\n",
       "      <td>0.071186</td>\n",
       "      <td>0.717923</td>\n",
       "      <td>0.951274</td>\n",
       "      <td>...</td>\n",
       "      <td>-0.539574</td>\n",
       "      <td>0.590302</td>\n",
       "      <td>-0.112117</td>\n",
       "      <td>0.443605</td>\n",
       "      <td>-0.057064</td>\n",
       "      <td>-0.091036</td>\n",
       "      <td>0.082600</td>\n",
       "      <td>0.074278</td>\n",
       "      <td>-0.573917</td>\n",
       "      <td>1.000000</td>\n",
       "    </tr>\n",
       "  </tbody>\n",
       "</table>\n",
       "<p>28 rows × 28 columns</p>\n",
       "</div>"
      ],
      "text/plain": [
       "                             enrollment  rigorous_instruction  \\\n",
       "enrollment                     1.000000              0.054143   \n",
       "rigorous_instruction           0.054143              1.000000   \n",
       "collab_teachers                0.034292              0.834973   \n",
       "support_environ                0.074983              0.788036   \n",
       "effective_school_leadership   -0.023563              0.785521   \n",
       "strong_fam_community_ties     -0.113532              0.444640   \n",
       "trust                          0.000965              0.760575   \n",
       "english_language_learners      0.198048             -0.086402   \n",
       "students_disabilities         -0.458664             -0.246845   \n",
       "self_contained                -0.132190             -0.276040   \n",
       "economic_need_index           -0.187777             -0.303059   \n",
       "temp_housing                  -0.363258             -0.248838   \n",
       "hra_eligible                  -0.177764             -0.308687   \n",
       "asian                          0.443760              0.170610   \n",
       "black                         -0.416197             -0.219258   \n",
       "hispanic                      -0.047887             -0.115387   \n",
       "white                          0.197276              0.273532   \n",
       "teachers_3_or_more_yrs_exp     0.215523              0.208089   \n",
       "student_attendance_rate        0.371440              0.313577   \n",
       "chronically_absent            -0.355375             -0.330030   \n",
       "teacher_attendance_rate       -0.119966              0.145128   \n",
       "pct_75_economic_need_index    -0.215181             -0.243812   \n",
       "majority_white                 0.038167              0.058073   \n",
       "majority_asian                 0.093670              0.052343   \n",
       "majority_black                -0.143273             -0.022216   \n",
       "majority_hispanic             -0.013227             -0.024676   \n",
       "student_attendance_rate_cap    0.381648              0.314994   \n",
       "self_c_disabilities           -0.236863             -0.264170   \n",
       "\n",
       "                             collab_teachers  support_environ  \\\n",
       "enrollment                          0.034292         0.074983   \n",
       "rigorous_instruction                0.834973         0.788036   \n",
       "collab_teachers                     1.000000         0.720587   \n",
       "support_environ                     0.720587         1.000000   \n",
       "effective_school_leadership         0.918153         0.601279   \n",
       "strong_fam_community_ties           0.461629         0.600529   \n",
       "trust                               0.902071         0.699714   \n",
       "english_language_learners          -0.043235         0.052195   \n",
       "students_disabilities              -0.174741        -0.255675   \n",
       "self_contained                     -0.196866        -0.227811   \n",
       "economic_need_index                -0.205662        -0.283555   \n",
       "temp_housing                       -0.195359        -0.268188   \n",
       "hra_eligible                       -0.213288        -0.284807   \n",
       "asian                               0.131297         0.254970   \n",
       "black                              -0.153810        -0.285517   \n",
       "hispanic                           -0.090363        -0.111907   \n",
       "white                               0.197016         0.271602   \n",
       "teachers_3_or_more_yrs_exp          0.216765         0.218324   \n",
       "student_attendance_rate             0.240320         0.307892   \n",
       "chronically_absent                 -0.248044        -0.304059   \n",
       "teacher_attendance_rate             0.166541         0.136418   \n",
       "pct_75_economic_need_index         -0.179527        -0.236749   \n",
       "majority_white                      0.044132         0.030942   \n",
       "majority_asian                      0.053516         0.105643   \n",
       "majority_black                      0.018456        -0.058866   \n",
       "majority_hispanic                  -0.015410         0.003231   \n",
       "student_attendance_rate_cap         0.240775         0.312456   \n",
       "self_c_disabilities                -0.190916        -0.231895   \n",
       "\n",
       "                             effective_school_leadership  \\\n",
       "enrollment                                     -0.023563   \n",
       "rigorous_instruction                            0.785521   \n",
       "collab_teachers                                 0.918153   \n",
       "support_environ                                 0.601279   \n",
       "effective_school_leadership                     1.000000   \n",
       "strong_fam_community_ties                       0.405167   \n",
       "trust                                           0.884261   \n",
       "english_language_learners                      -0.038793   \n",
       "students_disabilities                          -0.130049   \n",
       "self_contained                                 -0.172526   \n",
       "economic_need_index                            -0.144322   \n",
       "temp_housing                                   -0.136250   \n",
       "hra_eligible                                   -0.154999   \n",
       "asian                                           0.084360   \n",
       "black                                          -0.097530   \n",
       "hispanic                                       -0.063623   \n",
       "white                                           0.132816   \n",
       "teachers_3_or_more_yrs_exp                      0.139610   \n",
       "student_attendance_rate                         0.196734   \n",
       "chronically_absent                             -0.216479   \n",
       "teacher_attendance_rate                         0.140200   \n",
       "pct_75_economic_need_index                     -0.120736   \n",
       "majority_white                                  0.024854   \n",
       "majority_asian                                  0.047625   \n",
       "majority_black                                  0.041127   \n",
       "majority_hispanic                              -0.010601   \n",
       "student_attendance_rate_cap                     0.202294   \n",
       "self_c_disabilities                            -0.162643   \n",
       "\n",
       "                             strong_fam_community_ties     trust  \\\n",
       "enrollment                                   -0.113532  0.000965   \n",
       "rigorous_instruction                          0.444640  0.760575   \n",
       "collab_teachers                               0.461629  0.902071   \n",
       "support_environ                               0.600529  0.699714   \n",
       "effective_school_leadership                   0.405167  0.884261   \n",
       "strong_fam_community_ties                     1.000000  0.509791   \n",
       "trust                                         0.509791  1.000000   \n",
       "english_language_learners                     0.013809  0.026826   \n",
       "students_disabilities                        -0.032723 -0.109379   \n",
       "self_contained                               -0.097620 -0.160697   \n",
       "economic_need_index                          -0.205642 -0.134196   \n",
       "temp_housing                                 -0.092673 -0.126763   \n",
       "hra_eligible                                 -0.206292 -0.142664   \n",
       "asian                                         0.029096  0.100906   \n",
       "black                                        -0.101440 -0.167215   \n",
       "hispanic                                     -0.063171 -0.018808   \n",
       "white                                         0.182238  0.151269   \n",
       "teachers_3_or_more_yrs_exp                    0.097443  0.171304   \n",
       "student_attendance_rate                       0.148121  0.189838   \n",
       "chronically_absent                           -0.131471 -0.197162   \n",
       "teacher_attendance_rate                       0.092489  0.139378   \n",
       "pct_75_economic_need_index                   -0.176056 -0.105276   \n",
       "majority_white                                0.066950  0.022648   \n",
       "majority_asian                                0.054725  0.062374   \n",
       "majority_black                                0.034732 -0.010581   \n",
       "majority_hispanic                             0.001447  0.038604   \n",
       "student_attendance_rate_cap                   0.126400  0.191415   \n",
       "self_c_disabilities                          -0.065584 -0.147849   \n",
       "\n",
       "                             english_language_learners  students_disabilities  \\\n",
       "enrollment                                    0.198048              -0.458664   \n",
       "rigorous_instruction                         -0.086402              -0.246845   \n",
       "collab_teachers                              -0.043235              -0.174741   \n",
       "support_environ                               0.052195              -0.255675   \n",
       "effective_school_leadership                  -0.038793              -0.130049   \n",
       "strong_fam_community_ties                     0.013809              -0.032723   \n",
       "trust                                         0.026826              -0.109379   \n",
       "english_language_learners                     1.000000              -0.030432   \n",
       "students_disabilities                        -0.030432               1.000000   \n",
       "self_contained                                0.146010               0.596136   \n",
       "economic_need_index                           0.455368               0.494069   \n",
       "temp_housing                                  0.268978               0.575952   \n",
       "hra_eligible                                  0.458627               0.502229   \n",
       "asian                                         0.132693              -0.493911   \n",
       "black                                        -0.378095               0.372379   \n",
       "hispanic                                      0.519243               0.275120   \n",
       "white                                        -0.274518              -0.363956   \n",
       "teachers_3_or_more_yrs_exp                   -0.033922              -0.204034   \n",
       "student_attendance_rate                       0.022556              -0.600727   \n",
       "chronically_absent                            0.001900               0.620374   \n",
       "teacher_attendance_rate                      -0.106997              -0.035149   \n",
       "pct_75_economic_need_index                    0.395583               0.459596   \n",
       "majority_white                               -0.065153              -0.072147   \n",
       "majority_asian                                0.193572              -0.144789   \n",
       "majority_black                               -0.204660               0.067924   \n",
       "majority_hispanic                             0.470329               0.070095   \n",
       "student_attendance_rate_cap                   0.031949              -0.628109   \n",
       "self_c_disabilities                           0.071186               0.717923   \n",
       "\n",
       "                             self_contained  ...  student_attendance_rate  \\\n",
       "enrollment                        -0.132190  ...                 0.371440   \n",
       "rigorous_instruction              -0.276040  ...                 0.313577   \n",
       "collab_teachers                   -0.196866  ...                 0.240320   \n",
       "support_environ                   -0.227811  ...                 0.307892   \n",
       "effective_school_leadership       -0.172526  ...                 0.196734   \n",
       "strong_fam_community_ties         -0.097620  ...                 0.148121   \n",
       "trust                             -0.160697  ...                 0.189838   \n",
       "english_language_learners          0.146010  ...                 0.022556   \n",
       "students_disabilities              0.596136  ...                -0.600727   \n",
       "self_contained                     1.000000  ...                -0.527554   \n",
       "economic_need_index                0.541624  ...                -0.595275   \n",
       "temp_housing                       0.528658  ...                -0.675000   \n",
       "hra_eligible                       0.562199  ...                -0.612891   \n",
       "asian                             -0.297535  ...                 0.550251   \n",
       "black                              0.325121  ...                -0.527154   \n",
       "hispanic                           0.249369  ...                -0.220465   \n",
       "white                             -0.455401  ...                 0.453114   \n",
       "teachers_3_or_more_yrs_exp        -0.032029  ...                 0.166721   \n",
       "student_attendance_rate           -0.527554  ...                 1.000000   \n",
       "chronically_absent                 0.585541  ...                -0.962100   \n",
       "teacher_attendance_rate           -0.162907  ...                 0.105897   \n",
       "pct_75_economic_need_index         0.456474  ...                -0.542233   \n",
       "majority_white                    -0.063902  ...                 0.068005   \n",
       "majority_asian                    -0.094939  ...                 0.213958   \n",
       "majority_black                     0.089730  ...                -0.141387   \n",
       "majority_hispanic                  0.102079  ...                 0.010654   \n",
       "student_attendance_rate_cap       -0.563071  ...                 0.967507   \n",
       "self_c_disabilities                0.951274  ...                -0.539574   \n",
       "\n",
       "                             chronically_absent  teacher_attendance_rate  \\\n",
       "enrollment                            -0.355375                -0.119966   \n",
       "rigorous_instruction                  -0.330030                 0.145128   \n",
       "collab_teachers                       -0.248044                 0.166541   \n",
       "support_environ                       -0.304059                 0.136418   \n",
       "effective_school_leadership           -0.216479                 0.140200   \n",
       "strong_fam_community_ties             -0.131471                 0.092489   \n",
       "trust                                 -0.197162                 0.139378   \n",
       "english_language_learners              0.001900                -0.106997   \n",
       "students_disabilities                  0.620374                -0.035149   \n",
       "self_contained                         0.585541                -0.162907   \n",
       "economic_need_index                    0.661037                -0.112157   \n",
       "temp_housing                           0.714920                -0.046712   \n",
       "hra_eligible                           0.678965                -0.128466   \n",
       "asian                                 -0.524275                -0.014547   \n",
       "black                                  0.544508                -0.009190   \n",
       "hispanic                               0.235486                -0.065005   \n",
       "white                                 -0.516741                 0.102116   \n",
       "teachers_3_or_more_yrs_exp            -0.152347                -0.200273   \n",
       "student_attendance_rate               -0.962100                 0.105897   \n",
       "chronically_absent                     1.000000                -0.117978   \n",
       "teacher_attendance_rate               -0.117978                 1.000000   \n",
       "pct_75_economic_need_index             0.592113                -0.054578   \n",
       "majority_white                        -0.091760                 0.003012   \n",
       "majority_asian                        -0.181320                 0.016510   \n",
       "majority_black                         0.146792                 0.014048   \n",
       "majority_hispanic                     -0.005509                -0.043891   \n",
       "student_attendance_rate_cap           -0.978973                 0.113006   \n",
       "self_c_disabilities                    0.590302                -0.112117   \n",
       "\n",
       "                             pct_75_economic_need_index  majority_white  \\\n",
       "enrollment                                    -0.215181        0.038167   \n",
       "rigorous_instruction                          -0.243812        0.058073   \n",
       "collab_teachers                               -0.179527        0.044132   \n",
       "support_environ                               -0.236749        0.030942   \n",
       "effective_school_leadership                   -0.120736        0.024854   \n",
       "strong_fam_community_ties                     -0.176056        0.066950   \n",
       "trust                                         -0.105276        0.022648   \n",
       "english_language_learners                      0.395583       -0.065153   \n",
       "students_disabilities                          0.459596       -0.072147   \n",
       "self_contained                                 0.456474       -0.063902   \n",
       "economic_need_index                            0.820053       -0.204043   \n",
       "temp_housing                                   0.696363       -0.123255   \n",
       "hra_eligible                                   0.830507       -0.189874   \n",
       "asian                                         -0.348267       -0.047215   \n",
       "black                                          0.269688       -0.089068   \n",
       "hispanic                                       0.477181       -0.109815   \n",
       "white                                         -0.618021        0.327640   \n",
       "teachers_3_or_more_yrs_exp                    -0.225010        0.023564   \n",
       "student_attendance_rate                       -0.542233        0.068005   \n",
       "chronically_absent                             0.592113       -0.091760   \n",
       "teacher_attendance_rate                       -0.054578        0.003012   \n",
       "pct_75_economic_need_index                     1.000000       -0.116453   \n",
       "majority_white                                -0.116453        1.000000   \n",
       "majority_asian                                -0.022072       -0.011489   \n",
       "majority_black                                 0.022162       -0.025570   \n",
       "majority_hispanic                              0.295606       -0.039224   \n",
       "student_attendance_rate_cap                   -0.568779        0.071403   \n",
       "self_c_disabilities                            0.443605       -0.057064   \n",
       "\n",
       "                             majority_asian  majority_black  \\\n",
       "enrollment                         0.093670       -0.143273   \n",
       "rigorous_instruction               0.052343       -0.022216   \n",
       "collab_teachers                    0.053516        0.018456   \n",
       "support_environ                    0.105643       -0.058866   \n",
       "effective_school_leadership        0.047625        0.041127   \n",
       "strong_fam_community_ties          0.054725        0.034732   \n",
       "trust                              0.062374       -0.010581   \n",
       "english_language_learners          0.193572       -0.204660   \n",
       "students_disabilities             -0.144789        0.067924   \n",
       "self_contained                    -0.094939        0.089730   \n",
       "economic_need_index                0.011758        0.056054   \n",
       "temp_housing                      -0.094862        0.083939   \n",
       "hra_eligible                       0.013202        0.057770   \n",
       "asian                              0.462926       -0.174240   \n",
       "black                             -0.122776        0.587634   \n",
       "hispanic                          -0.158853       -0.334778   \n",
       "white                             -0.068994       -0.163951   \n",
       "teachers_3_or_more_yrs_exp         0.033240        0.073545   \n",
       "student_attendance_rate            0.213958       -0.141387   \n",
       "chronically_absent                -0.181320        0.146792   \n",
       "teacher_attendance_rate            0.016510        0.014048   \n",
       "pct_75_economic_need_index        -0.022072        0.022162   \n",
       "majority_white                    -0.011489       -0.025570   \n",
       "majority_asian                     1.000000       -0.035142   \n",
       "majority_black                    -0.035142        1.000000   \n",
       "majority_hispanic                 -0.053908       -0.119979   \n",
       "student_attendance_rate_cap        0.226227       -0.148753   \n",
       "self_c_disabilities               -0.091036        0.082600   \n",
       "\n",
       "                             majority_hispanic  student_attendance_rate_cap  \\\n",
       "enrollment                           -0.013227                     0.381648   \n",
       "rigorous_instruction                 -0.024676                     0.314994   \n",
       "collab_teachers                      -0.015410                     0.240775   \n",
       "support_environ                       0.003231                     0.312456   \n",
       "effective_school_leadership          -0.010601                     0.202294   \n",
       "strong_fam_community_ties             0.001447                     0.126400   \n",
       "trust                                 0.038604                     0.191415   \n",
       "english_language_learners             0.470329                     0.031949   \n",
       "students_disabilities                 0.070095                    -0.628109   \n",
       "self_contained                        0.102079                    -0.563071   \n",
       "economic_need_index                   0.293933                    -0.622820   \n",
       "temp_housing                          0.263629                    -0.701769   \n",
       "hra_eligible                          0.282700                    -0.639494   \n",
       "asian                                -0.251987                     0.578535   \n",
       "black                                -0.282513                    -0.557910   \n",
       "hispanic                              0.675400                    -0.229227   \n",
       "white                                -0.247538                     0.476112   \n",
       "teachers_3_or_more_yrs_exp           -0.061122                     0.164510   \n",
       "student_attendance_rate               0.010654                     0.967507   \n",
       "chronically_absent                   -0.005509                    -0.978973   \n",
       "teacher_attendance_rate              -0.043891                     0.113006   \n",
       "pct_75_economic_need_index            0.295606                    -0.568779   \n",
       "majority_white                       -0.039224                     0.071403   \n",
       "majority_asian                       -0.053908                     0.226227   \n",
       "majority_black                       -0.119979                    -0.148753   \n",
       "majority_hispanic                     1.000000                     0.007145   \n",
       "student_attendance_rate_cap           0.007145                     1.000000   \n",
       "self_c_disabilities                   0.074278                    -0.573917   \n",
       "\n",
       "                             self_c_disabilities  \n",
       "enrollment                             -0.236863  \n",
       "rigorous_instruction                   -0.264170  \n",
       "collab_teachers                        -0.190916  \n",
       "support_environ                        -0.231895  \n",
       "effective_school_leadership            -0.162643  \n",
       "strong_fam_community_ties              -0.065584  \n",
       "trust                                  -0.147849  \n",
       "english_language_learners               0.071186  \n",
       "students_disabilities                   0.717923  \n",
       "self_contained                          0.951274  \n",
       "economic_need_index                     0.496942  \n",
       "temp_housing                            0.536366  \n",
       "hra_eligible                            0.516485  \n",
       "asian                                  -0.333359  \n",
       "black                                   0.335654  \n",
       "hispanic                                0.221502  \n",
       "white                                  -0.399004  \n",
       "teachers_3_or_more_yrs_exp             -0.079938  \n",
       "student_attendance_rate                -0.539574  \n",
       "chronically_absent                      0.590302  \n",
       "teacher_attendance_rate                -0.112117  \n",
       "pct_75_economic_need_index              0.443605  \n",
       "majority_white                         -0.057064  \n",
       "majority_asian                         -0.091036  \n",
       "majority_black                          0.082600  \n",
       "majority_hispanic                       0.074278  \n",
       "student_attendance_rate_cap            -0.573917  \n",
       "self_c_disabilities                     1.000000  \n",
       "\n",
       "[28 rows x 28 columns]"
      ]
     },
     "execution_count": 455,
     "metadata": {},
     "output_type": "execute_result"
    }
   ],
   "source": [
    "corr"
   ]
  },
  {
   "cell_type": "code",
   "execution_count": 456,
   "metadata": {
    "scrolled": true
   },
   "outputs": [
    {
     "data": {
      "image/png": "[encoded data removed]",
      "text/plain": [
       "<Figure size 792x648 with 2 Axes>"
      ]
     },
     "metadata": {},
     "output_type": "display_data"
    }
   ],
   "source": [
    "def CorrMtx(df, dropDuplicates = True):\n",
    "    # Exclude duplicate correlations by masking uper right values\n",
    "    if dropDuplicates:    \n",
    "        mask = np.zeros_like(df, dtype=np.bool)\n",
    "        mask[np.triu_indices_from(mask)] = True\n",
    "\n",
    "    # Set background color / chart style\n",
    "    sns.set_style(style = 'white')\n",
    "\n",
    "    # Set up  matplotlib figure\n",
    "    f, ax = plt.subplots(figsize=(11, 9))\n",
    "\n",
    "    # Add diverging colormap from red to blue\n",
    "    cmap = sns.diverging_palette(150, 10, as_cmap=True)\n",
    "    \n",
    "    # Draw correlation plot with or without duplicates\n",
    "    if dropDuplicates:\n",
    "        sns.heatmap(df, mask=mask, cmap=cmap, \n",
    "                square=True,\n",
    "                linewidth=.5, cbar_kws={\"shrink\": .5}, ax=ax)\n",
    "    else:\n",
    "        sns.heatmap(df, cmap=cmap, \n",
    "                square=True,\n",
    "                linewidth=.5, cbar_kws={\"shrink\": .5}, ax=ax)\n",
    "\n",
    "CorrMtx(corr, dropDuplicates = True)"
   ]
  },
  {
   "cell_type": "markdown",
   "metadata": {},
   "source": [
    "The general pattern of correlation matrix above shows a fairly even distribution of features with both positive and negative correlations. In the chart I noticed a strong negative correlation between chronically absences and student attendance rates, giving credence to the question posed earlier of finding a statistically significance between chronic absences and attendance rates. This also gives a sense of what variables to remove due to multicolinearity. I chose to eliminate economic_need_index, support_environ, effective_school_leadership, _strong_fam_community_ties, trust, and rigorous_instruction knowing that a collaborative teaching team will often have a handle on what a student's home life looks like and can better keep tabs on what is causing a student to miss school. Also of the preliminary model (further down), collab_teachers has the higher coefficient of these features."
   ]
  },
  {
   "cell_type": "markdown",
   "metadata": {},
   "source": [
    "---"
   ]
  },
  {
   "cell_type": "markdown",
   "metadata": {},
   "source": [
    "### Test - 2"
   ]
  },
  {
   "cell_type": "code",
   "execution_count": 18,
   "metadata": {},
   "outputs": [
    {
     "data": {
      "text/plain": [
       "Ttest_1sampResult(statistic=-34.407841253697434, pvalue=6.810396597146418e-170)"
      ]
     },
     "execution_count": 18,
     "metadata": {},
     "output_type": "execute_result"
    }
   ],
   "source": [
    "stats.ttest_1samp(a= df.teachers_3_or_more_yrs_exp,               # Sample data\n",
    "                 popmean= df.student_attendance_rate.mean())  # Pop mean"
   ]
  },
  {
   "cell_type": "markdown",
   "metadata": {},
   "source": [
    "According to my test statistic of -34.40 and miniscule p-value, I can conclude that there is a statistical difference between teachers with 3 or more years of experience and student attendance rates. In this case I can reject the null hypothesis that there is not a statistically significant difference and answer the question posed above."
   ]
  },
  {
   "cell_type": "markdown",
   "metadata": {},
   "source": [
    "---"
   ]
  },
  {
   "cell_type": "markdown",
   "metadata": {},
   "source": [
    "### Test - 3"
   ]
  },
  {
   "cell_type": "code",
   "execution_count": 355,
   "metadata": {},
   "outputs": [
    {
     "data": {
      "text/plain": [
       "Ttest_1sampResult(statistic=-25.90948188208478, pvalue=9.407873842059479e-113)"
      ]
     },
     "execution_count": 355,
     "metadata": {},
     "output_type": "execute_result"
    }
   ],
   "source": [
    "stats.ttest_1samp(a= df.economic_need_index,               # Sample data\n",
    "                 popmean= df.student_attendance_rate.mean())  # Pop mean"
   ]
  },
  {
   "cell_type": "markdown",
   "metadata": {},
   "source": [
    "According to the test statistic of -25.90 and the p-value below .05 I can conclude with a high degree of confidence that there is a statistically significant difference in between the student attendance rate and the economic need index. "
   ]
  },
  {
   "cell_type": "markdown",
   "metadata": {},
   "source": [
    "---"
   ]
  },
  {
   "cell_type": "markdown",
   "metadata": {},
   "source": [
    "# <font color='yellow'>Exploratory Data Analysis</font>"
   ]
  },
  {
   "cell_type": "markdown",
   "metadata": {},
   "source": [
    "---"
   ]
  },
  {
   "cell_type": "markdown",
   "metadata": {},
   "source": [
    "## Visualizations"
   ]
  },
  {
   "cell_type": "markdown",
   "metadata": {},
   "source": [
    "---"
   ]
  },
  {
   "cell_type": "markdown",
   "metadata": {},
   "source": [
    "### Chronically Absent / Student Attendance Rate"
   ]
  },
  {
   "cell_type": "code",
   "execution_count": 354,
   "metadata": {},
   "outputs": [
    {
     "data": {
      "image/png": "[encoded data removed]",
      "text/plain": [
       "<Figure size 432x288 with 1 Axes>"
      ]
     },
     "metadata": {},
     "output_type": "display_data"
    }
   ],
   "source": [
    "df.plot(kind=\"scatter\", x=\"chronically_absent\", y=\"student_attendance_rate\", alpha=0.5)\n",
    "plt.title('Chronically Absent & Student Attendance Rate', fontsize=15, fontweight='bold')\n",
    "plt.show()"
   ]
  },
  {
   "cell_type": "code",
   "execution_count": 84,
   "metadata": {},
   "outputs": [
    {
     "data": {
      "text/html": [
       "<div>\n",
       "<style scoped>\n",
       "    .dataframe tbody tr th:only-of-type {\n",
       "        vertical-align: middle;\n",
       "    }\n",
       "\n",
       "    .dataframe tbody tr th {\n",
       "        vertical-align: top;\n",
       "    }\n",
       "\n",
       "    .dataframe thead th {\n",
       "        text-align: right;\n",
       "    }\n",
       "</style>\n",
       "<table border=\"1\" class=\"dataframe\">\n",
       "  <thead>\n",
       "    <tr style=\"text-align: right;\">\n",
       "      <th></th>\n",
       "      <th>dbn</th>\n",
       "      <th>school_name</th>\n",
       "      <th>school_type</th>\n",
       "      <th>enrollment</th>\n",
       "      <th>rigorous_instruction</th>\n",
       "      <th>collab_teachers</th>\n",
       "      <th>support_environ</th>\n",
       "      <th>effective_school_leadership</th>\n",
       "      <th>strong_fam_community_ties</th>\n",
       "      <th>trust</th>\n",
       "      <th>...</th>\n",
       "      <th>teachers_3_or_more_yrs_exp</th>\n",
       "      <th>student_attendance_rate</th>\n",
       "      <th>chronically_absent</th>\n",
       "      <th>teacher_attendance_rate</th>\n",
       "      <th>economic_need_index_cat</th>\n",
       "      <th>majority_white</th>\n",
       "      <th>majority_asian</th>\n",
       "      <th>majority_black</th>\n",
       "      <th>majority_hispanic</th>\n",
       "      <th>75_pct_economic_need_index</th>\n",
       "    </tr>\n",
       "  </thead>\n",
       "  <tbody>\n",
       "    <tr>\n",
       "      <th>292</th>\n",
       "      <td>09X350</td>\n",
       "      <td>New Directions Secondary School</td>\n",
       "      <td>Middle</td>\n",
       "      <td>81</td>\n",
       "      <td>0.66</td>\n",
       "      <td>0.67</td>\n",
       "      <td>0.62</td>\n",
       "      <td>0.77</td>\n",
       "      <td>0.81</td>\n",
       "      <td>0.81</td>\n",
       "      <td>...</td>\n",
       "      <td>0.577</td>\n",
       "      <td>0.632</td>\n",
       "      <td>0.838</td>\n",
       "      <td>0.964</td>\n",
       "      <td>1</td>\n",
       "      <td>0</td>\n",
       "      <td>0</td>\n",
       "      <td>0</td>\n",
       "      <td>0</td>\n",
       "      <td>1</td>\n",
       "    </tr>\n",
       "    <tr>\n",
       "      <th>766</th>\n",
       "      <td>23K697</td>\n",
       "      <td>Teachers Preparatory High School</td>\n",
       "      <td>Middle</td>\n",
       "      <td>16</td>\n",
       "      <td>0.74</td>\n",
       "      <td>0.85</td>\n",
       "      <td>0.68</td>\n",
       "      <td>0.88</td>\n",
       "      <td>0.89</td>\n",
       "      <td>0.91</td>\n",
       "      <td>...</td>\n",
       "      <td>0.789</td>\n",
       "      <td>0.822</td>\n",
       "      <td>0.824</td>\n",
       "      <td>0.976</td>\n",
       "      <td>1</td>\n",
       "      <td>0</td>\n",
       "      <td>0</td>\n",
       "      <td>1</td>\n",
       "      <td>0</td>\n",
       "      <td>1</td>\n",
       "    </tr>\n",
       "  </tbody>\n",
       "</table>\n",
       "<p>2 rows × 30 columns</p>\n",
       "</div>"
      ],
      "text/plain": [
       "        dbn                       school_name school_type  enrollment  \\\n",
       "292  09X350   New Directions Secondary School      Middle          81   \n",
       "766  23K697  Teachers Preparatory High School      Middle          16   \n",
       "\n",
       "     rigorous_instruction  collab_teachers  support_environ  \\\n",
       "292                  0.66             0.67             0.62   \n",
       "766                  0.74             0.85             0.68   \n",
       "\n",
       "     effective_school_leadership  strong_fam_community_ties  trust  ...  \\\n",
       "292                         0.77                       0.81   0.81  ...   \n",
       "766                         0.88                       0.89   0.91  ...   \n",
       "\n",
       "     teachers_3_or_more_yrs_exp  student_attendance_rate  chronically_absent  \\\n",
       "292                       0.577                    0.632               0.838   \n",
       "766                       0.789                    0.822               0.824   \n",
       "\n",
       "     teacher_attendance_rate  economic_need_index_cat  majority_white  \\\n",
       "292                    0.964                        1               0   \n",
       "766                    0.976                        1               0   \n",
       "\n",
       "     majority_asian  majority_black  majority_hispanic  \\\n",
       "292               0               0                  0   \n",
       "766               0               1                  0   \n",
       "\n",
       "     75_pct_economic_need_index  \n",
       "292                           1  \n",
       "766                           1  \n",
       "\n",
       "[2 rows x 30 columns]"
      ]
     },
     "execution_count": 84,
     "metadata": {},
     "output_type": "execute_result"
    }
   ],
   "source": [
    "df[df.chronically_absent >= .7]"
   ]
  },
  {
   "cell_type": "markdown",
   "metadata": {},
   "source": [
    "This scatterplot is a visualization of the correlation between chronic absences and attendance rates. This further solidifies my assumptions that high incidences of chronic absence contribute to the overall attendance rate. This graph visually shows that as the chronically absent rate increases the student attendance rate decreases. An interesting point to note is the two outliers in the data. New Directions, being a secondary school, makes sense as to their enrollment and high chronic absences. I did further research into Teachers Prep HS and found that as of 2019 they are high school only. Meaning that the 8th grade class was its last. Also their Inside Schools profile states, \"Attendance is poor, however. More than half the students miss a month or more of school. Cooper said some students live in temporary housing and some travel a distance to get to school.\""
   ]
  },
  {
   "cell_type": "markdown",
   "metadata": {},
   "source": [
    "---"
   ]
  },
  {
   "cell_type": "markdown",
   "metadata": {},
   "source": [
    "### Student Attendance Rate & Student Attendance Rate w/ Outliers Capped"
   ]
  },
  {
   "cell_type": "code",
   "execution_count": 353,
   "metadata": {},
   "outputs": [
    {
     "data": {
      "image/png": "[encoded data removed]",
      "text/plain": [
       "<Figure size 432x288 with 1 Axes>"
      ]
     },
     "metadata": {},
     "output_type": "display_data"
    }
   ],
   "source": [
    "plt.hist(df.student_attendance_rate, bins=50)\n",
    "plt.xlabel('Student Attendance Rate')\n",
    "plt.ylabel('Number of instances')\n",
    "plt.title('Student Attendance Rate', fontsize=15, fontweight='bold')\n",
    "plt.show()"
   ]
  },
  {
   "cell_type": "code",
   "execution_count": 113,
   "metadata": {},
   "outputs": [
    {
     "data": {
      "text/html": [
       "<div>\n",
       "<style scoped>\n",
       "    .dataframe tbody tr th:only-of-type {\n",
       "        vertical-align: middle;\n",
       "    }\n",
       "\n",
       "    .dataframe tbody tr th {\n",
       "        vertical-align: top;\n",
       "    }\n",
       "\n",
       "    .dataframe thead th {\n",
       "        text-align: right;\n",
       "    }\n",
       "</style>\n",
       "<table border=\"1\" class=\"dataframe\">\n",
       "  <thead>\n",
       "    <tr style=\"text-align: right;\">\n",
       "      <th></th>\n",
       "      <th>dbn</th>\n",
       "      <th>school_name</th>\n",
       "      <th>school_type</th>\n",
       "      <th>enrollment</th>\n",
       "      <th>rigorous_instruction</th>\n",
       "      <th>collab_teachers</th>\n",
       "      <th>support_environ</th>\n",
       "      <th>effective_school_leadership</th>\n",
       "      <th>strong_fam_community_ties</th>\n",
       "      <th>trust</th>\n",
       "      <th>...</th>\n",
       "      <th>teachers_3_or_more_yrs_exp</th>\n",
       "      <th>student_attendance_rate</th>\n",
       "      <th>chronically_absent</th>\n",
       "      <th>teacher_attendance_rate</th>\n",
       "      <th>economic_need_index_cat</th>\n",
       "      <th>majority_white</th>\n",
       "      <th>majority_asian</th>\n",
       "      <th>majority_black</th>\n",
       "      <th>majority_hispanic</th>\n",
       "      <th>75_pct_economic_need_index</th>\n",
       "    </tr>\n",
       "  </thead>\n",
       "  <tbody>\n",
       "    <tr>\n",
       "      <th>292</th>\n",
       "      <td>09X350</td>\n",
       "      <td>New Directions Secondary School</td>\n",
       "      <td>Middle</td>\n",
       "      <td>81</td>\n",
       "      <td>0.66</td>\n",
       "      <td>0.67</td>\n",
       "      <td>0.62</td>\n",
       "      <td>0.77</td>\n",
       "      <td>0.81</td>\n",
       "      <td>0.81</td>\n",
       "      <td>...</td>\n",
       "      <td>0.577</td>\n",
       "      <td>0.632</td>\n",
       "      <td>0.838</td>\n",
       "      <td>0.964</td>\n",
       "      <td>1</td>\n",
       "      <td>0</td>\n",
       "      <td>0</td>\n",
       "      <td>0</td>\n",
       "      <td>0</td>\n",
       "      <td>1</td>\n",
       "    </tr>\n",
       "    <tr>\n",
       "      <th>766</th>\n",
       "      <td>23K697</td>\n",
       "      <td>Teachers Preparatory High School</td>\n",
       "      <td>Middle</td>\n",
       "      <td>16</td>\n",
       "      <td>0.74</td>\n",
       "      <td>0.85</td>\n",
       "      <td>0.68</td>\n",
       "      <td>0.88</td>\n",
       "      <td>0.89</td>\n",
       "      <td>0.91</td>\n",
       "      <td>...</td>\n",
       "      <td>0.789</td>\n",
       "      <td>0.822</td>\n",
       "      <td>0.824</td>\n",
       "      <td>0.976</td>\n",
       "      <td>1</td>\n",
       "      <td>0</td>\n",
       "      <td>0</td>\n",
       "      <td>1</td>\n",
       "      <td>0</td>\n",
       "      <td>1</td>\n",
       "    </tr>\n",
       "  </tbody>\n",
       "</table>\n",
       "<p>2 rows × 30 columns</p>\n",
       "</div>"
      ],
      "text/plain": [
       "        dbn                       school_name school_type  enrollment  \\\n",
       "292  09X350   New Directions Secondary School      Middle          81   \n",
       "766  23K697  Teachers Preparatory High School      Middle          16   \n",
       "\n",
       "     rigorous_instruction  collab_teachers  support_environ  \\\n",
       "292                  0.66             0.67             0.62   \n",
       "766                  0.74             0.85             0.68   \n",
       "\n",
       "     effective_school_leadership  strong_fam_community_ties  trust  ...  \\\n",
       "292                         0.77                       0.81   0.81  ...   \n",
       "766                         0.88                       0.89   0.91  ...   \n",
       "\n",
       "     teachers_3_or_more_yrs_exp  student_attendance_rate  chronically_absent  \\\n",
       "292                       0.577                    0.632               0.838   \n",
       "766                       0.789                    0.822               0.824   \n",
       "\n",
       "     teacher_attendance_rate  economic_need_index_cat  majority_white  \\\n",
       "292                    0.964                        1               0   \n",
       "766                    0.976                        1               0   \n",
       "\n",
       "     majority_asian  majority_black  majority_hispanic  \\\n",
       "292               0               0                  0   \n",
       "766               0               1                  0   \n",
       "\n",
       "     75_pct_economic_need_index  \n",
       "292                           1  \n",
       "766                           1  \n",
       "\n",
       "[2 rows x 30 columns]"
      ]
     },
     "execution_count": 113,
     "metadata": {},
     "output_type": "execute_result"
    }
   ],
   "source": [
    "df[df.student_attendance_rate <= .84]"
   ]
  },
  {
   "cell_type": "code",
   "execution_count": 352,
   "metadata": {},
   "outputs": [
    {
     "data": {
      "image/png": "[encoded data removed]",
      "text/plain": [
       "<Figure size 432x288 with 1 Axes>"
      ]
     },
     "metadata": {},
     "output_type": "display_data"
    }
   ],
   "source": [
    "plt.hist(df.student_attendance_rate_cap, bins=50)\n",
    "plt.xlabel('Student Attendance Rate')\n",
    "plt.ylabel('Number of instances')\n",
    "plt.title('Student Attendance Rate', fontsize=15, fontweight='bold')\n",
    "plt.show()"
   ]
  },
  {
   "cell_type": "markdown",
   "metadata": {},
   "source": [
    "The histogram above shows that student attendance rate data is negatively skewed. My options would be then to transform the data, remove the outliers, or impute the outliers to another value. To make my model more generally applicable I plan to cap the values below or equal to .84 to the value .85 where the other minimum non-outlier values lie and test with both iterations. The code is located above in the Engineered Features section of the notebook."
   ]
  },
  {
   "cell_type": "markdown",
   "metadata": {},
   "source": [
    "---"
   ]
  },
  {
   "cell_type": "markdown",
   "metadata": {},
   "source": [
    "### Percent by Race"
   ]
  },
  {
   "cell_type": "code",
   "execution_count": 225,
   "metadata": {},
   "outputs": [
    {
     "data": {
      "image/png": "[encoded data removed]",
      "text/plain": [
       "<Figure size 720x504 with 4 Axes>"
      ]
     },
     "metadata": {},
     "output_type": "display_data"
    }
   ],
   "source": [
    "fig, ax = plt.subplots(4, sharex='col', sharey='row', figsize=(10,7))\n",
    "fig.suptitle('Percentage of Race In School', fontsize=15, fontweight='bold')\n",
    "ax[0].hist(df.asian, label='Asian', color='red')\n",
    "ax[0].legend()\n",
    "ax[1].hist(df.black, label='Black')\n",
    "ax[1].legend()\n",
    "ax[2].hist(df.white, label='White', color='black')\n",
    "ax[2].legend()\n",
    "ax[3].hist(df.hispanic, label='Hispanic', color='orange')\n",
    "ax[3].legend()\n",
    "fig.text(0.5, 0.04, 'Percentage of Students', ha='center', va='center', fontsize=12, fontweight='bold')\n",
    "fig.text(0.06, 0.5, 'Number of Instances', ha='center', va='center', rotation='vertical', fontsize=12, fontweight='bold')\n",
    "plt.show()"
   ]
  },
  {
   "cell_type": "markdown",
   "metadata": {},
   "source": [
    "I charted the 4 racial categories given in the School Quality Review. From the distributions in the graph we can see that for Asian, Black, and White students there is a positive skew indicating that there are many schools with small percentages of these students. This lends to the idea that NYC schools tend to be very racially segregated. Hispanic student percentages are more evenly distributed."
   ]
  },
  {
   "cell_type": "markdown",
   "metadata": {},
   "source": [
    "---"
   ]
  },
  {
   "cell_type": "markdown",
   "metadata": {},
   "source": [
    "# <font color='yellow'>Modify Model</font>"
   ]
  },
  {
   "cell_type": "markdown",
   "metadata": {},
   "source": [
    "---"
   ]
  },
  {
   "cell_type": "code",
   "execution_count": 472,
   "metadata": {},
   "outputs": [],
   "source": [
    "outcome = 'student_attendance_rate_cap'\n",
    "predictors = df.drop(columns=['student_attendance_rate', \n",
    "                              'dbn', \n",
    "                              'school_name', \n",
    "                              'school_type', \n",
    "                              'enrollment',\n",
    "                              'support_environ',\n",
    "                              'effective_school_leadership',\n",
    "                              'trust',\n",
    "                              'rigorous_instruction',\n",
    "                              'pct_75_economic_need_index',\n",
    "                              'majority_hispanic',\n",
    "                              'hra_eligible',\n",
    "                              'teachers_3_or_more_yrs_exp',\n",
    "                              'economic_need_index_cat',\n",
    "                              'temp_housing',\n",
    "                              'teacher_attendance_rate',\n",
    "                              'student_attendance_rate_cap',\n",
    "                              'collab_teachers',\n",
    "                              'self_c_disabilities',\n",
    "                              'hra_temp',\n",
    "                              'asian_econ'], axis=1)"
   ]
  },
  {
   "cell_type": "markdown",
   "metadata": {},
   "source": [
    "---"
   ]
  },
  {
   "cell_type": "markdown",
   "metadata": {},
   "source": [
    "# <font color='yellow'>Model</font>"
   ]
  },
  {
   "cell_type": "markdown",
   "metadata": {},
   "source": [
    "---"
   ]
  },
  {
   "cell_type": "code",
   "execution_count": 473,
   "metadata": {
    "scrolled": true
   },
   "outputs": [
    {
     "data": {
      "text/html": [
       "<table class=\"simpletable\">\n",
       "<caption>OLS Regression Results</caption>\n",
       "<tr>\n",
       "  <th>Dep. Variable:</th>    <td>student_attendance_rate_cap</td> <th>  R-squared:         </th> <td>   0.966</td>\n",
       "</tr>\n",
       "<tr>\n",
       "  <th>Model:</th>                        <td>OLS</td>             <th>  Adj. R-squared:    </th> <td>   0.966</td>\n",
       "</tr>\n",
       "<tr>\n",
       "  <th>Method:</th>                  <td>Least Squares</td>        <th>  F-statistic:       </th> <td>   2092.</td>\n",
       "</tr>\n",
       "<tr>\n",
       "  <th>Date:</th>                  <td>Thu, 07 May 2020</td>       <th>  Prob (F-statistic):</th>  <td>  0.00</td> \n",
       "</tr>\n",
       "<tr>\n",
       "  <th>Time:</th>                      <td>22:33:12</td>           <th>  Log-Likelihood:    </th> <td>  3781.3</td>\n",
       "</tr>\n",
       "<tr>\n",
       "  <th>No. Observations:</th>           <td>   965</td>            <th>  AIC:               </th> <td>  -7535.</td>\n",
       "</tr>\n",
       "<tr>\n",
       "  <th>Df Residuals:</th>               <td>   951</td>            <th>  BIC:               </th> <td>  -7466.</td>\n",
       "</tr>\n",
       "<tr>\n",
       "  <th>Df Model:</th>                   <td>    13</td>            <th>                     </th>     <td> </td>   \n",
       "</tr>\n",
       "<tr>\n",
       "  <th>Covariance Type:</th>           <td>nonrobust</td>          <th>                     </th>     <td> </td>   \n",
       "</tr>\n",
       "</table>\n",
       "<table class=\"simpletable\">\n",
       "<tr>\n",
       "              <td></td>                 <th>coef</th>     <th>std err</th>      <th>t</th>      <th>P>|t|</th>  <th>[0.025</th>    <th>0.975]</th>  \n",
       "</tr>\n",
       "<tr>\n",
       "  <th>Intercept</th>                 <td>    0.9552</td> <td>    0.008</td> <td>  125.950</td> <td> 0.000</td> <td>    0.940</td> <td>    0.970</td>\n",
       "</tr>\n",
       "<tr>\n",
       "  <th>strong_fam_community_ties</th> <td>    0.0038</td> <td>    0.005</td> <td>    0.845</td> <td> 0.398</td> <td>   -0.005</td> <td>    0.013</td>\n",
       "</tr>\n",
       "<tr>\n",
       "  <th>english_language_learners</th> <td>   -0.0024</td> <td>    0.002</td> <td>   -1.179</td> <td> 0.239</td> <td>   -0.006</td> <td>    0.002</td>\n",
       "</tr>\n",
       "<tr>\n",
       "  <th>students_disabilities</th>     <td>   -0.0087</td> <td>    0.003</td> <td>   -2.734</td> <td> 0.006</td> <td>   -0.015</td> <td>   -0.002</td>\n",
       "</tr>\n",
       "<tr>\n",
       "  <th>self_contained</th>            <td>    0.0074</td> <td>    0.004</td> <td>    1.713</td> <td> 0.087</td> <td>   -0.001</td> <td>    0.016</td>\n",
       "</tr>\n",
       "<tr>\n",
       "  <th>economic_need_index</th>       <td>    0.0019</td> <td>    0.002</td> <td>    0.994</td> <td> 0.321</td> <td>   -0.002</td> <td>    0.006</td>\n",
       "</tr>\n",
       "<tr>\n",
       "  <th>asian</th>                     <td>    0.0246</td> <td>    0.007</td> <td>    3.682</td> <td> 0.000</td> <td>    0.011</td> <td>    0.038</td>\n",
       "</tr>\n",
       "<tr>\n",
       "  <th>black</th>                     <td>    0.0118</td> <td>    0.007</td> <td>    1.763</td> <td> 0.078</td> <td>   -0.001</td> <td>    0.025</td>\n",
       "</tr>\n",
       "<tr>\n",
       "  <th>hispanic</th>                  <td>    0.0155</td> <td>    0.007</td> <td>    2.372</td> <td> 0.018</td> <td>    0.003</td> <td>    0.028</td>\n",
       "</tr>\n",
       "<tr>\n",
       "  <th>white</th>                     <td>    0.0132</td> <td>    0.006</td> <td>    2.031</td> <td> 0.043</td> <td>    0.000</td> <td>    0.026</td>\n",
       "</tr>\n",
       "<tr>\n",
       "  <th>chronically_absent</th>        <td>   -0.1883</td> <td>    0.002</td> <td>  -88.579</td> <td> 0.000</td> <td>   -0.192</td> <td>   -0.184</td>\n",
       "</tr>\n",
       "<tr>\n",
       "  <th>majority_white</th>            <td>   -0.0022</td> <td>    0.002</td> <td>   -1.194</td> <td> 0.233</td> <td>   -0.006</td> <td>    0.001</td>\n",
       "</tr>\n",
       "<tr>\n",
       "  <th>majority_asian</th>            <td>    0.0038</td> <td>    0.001</td> <td>    2.558</td> <td> 0.011</td> <td>    0.001</td> <td>    0.007</td>\n",
       "</tr>\n",
       "<tr>\n",
       "  <th>majority_black</th>            <td>    0.0016</td> <td>    0.001</td> <td>    2.015</td> <td> 0.044</td> <td> 4.15e-05</td> <td>    0.003</td>\n",
       "</tr>\n",
       "</table>\n",
       "<table class=\"simpletable\">\n",
       "<tr>\n",
       "  <th>Omnibus:</th>       <td>159.465</td> <th>  Durbin-Watson:     </th> <td>   1.881</td>\n",
       "</tr>\n",
       "<tr>\n",
       "  <th>Prob(Omnibus):</th> <td> 0.000</td>  <th>  Jarque-Bera (JB):  </th> <td>1939.128</td>\n",
       "</tr>\n",
       "<tr>\n",
       "  <th>Skew:</th>          <td> 0.320</td>  <th>  Prob(JB):          </th> <td>    0.00</td>\n",
       "</tr>\n",
       "<tr>\n",
       "  <th>Kurtosis:</th>      <td> 9.915</td>  <th>  Cond. No.          </th> <td>    159.</td>\n",
       "</tr>\n",
       "</table><br/><br/>Warnings:<br/>[1] Standard Errors assume that the covariance matrix of the errors is correctly specified."
      ],
      "text/plain": [
       "<class 'statsmodels.iolib.summary.Summary'>\n",
       "\"\"\"\n",
       "                                 OLS Regression Results                                \n",
       "=======================================================================================\n",
       "Dep. Variable:     student_attendance_rate_cap   R-squared:                       0.966\n",
       "Model:                                     OLS   Adj. R-squared:                  0.966\n",
       "Method:                          Least Squares   F-statistic:                     2092.\n",
       "Date:                         Thu, 07 May 2020   Prob (F-statistic):               0.00\n",
       "Time:                                 22:33:12   Log-Likelihood:                 3781.3\n",
       "No. Observations:                          965   AIC:                            -7535.\n",
       "Df Residuals:                              951   BIC:                            -7466.\n",
       "Df Model:                                   13                                         \n",
       "Covariance Type:                     nonrobust                                         \n",
       "=============================================================================================\n",
       "                                coef    std err          t      P>|t|      [0.025      0.975]\n",
       "---------------------------------------------------------------------------------------------\n",
       "Intercept                     0.9552      0.008    125.950      0.000       0.940       0.970\n",
       "strong_fam_community_ties     0.0038      0.005      0.845      0.398      -0.005       0.013\n",
       "english_language_learners    -0.0024      0.002     -1.179      0.239      -0.006       0.002\n",
       "students_disabilities        -0.0087      0.003     -2.734      0.006      -0.015      -0.002\n",
       "self_contained                0.0074      0.004      1.713      0.087      -0.001       0.016\n",
       "economic_need_index           0.0019      0.002      0.994      0.321      -0.002       0.006\n",
       "asian                         0.0246      0.007      3.682      0.000       0.011       0.038\n",
       "black                         0.0118      0.007      1.763      0.078      -0.001       0.025\n",
       "hispanic                      0.0155      0.007      2.372      0.018       0.003       0.028\n",
       "white                         0.0132      0.006      2.031      0.043       0.000       0.026\n",
       "chronically_absent           -0.1883      0.002    -88.579      0.000      -0.192      -0.184\n",
       "majority_white               -0.0022      0.002     -1.194      0.233      -0.006       0.001\n",
       "majority_asian                0.0038      0.001      2.558      0.011       0.001       0.007\n",
       "majority_black                0.0016      0.001      2.015      0.044    4.15e-05       0.003\n",
       "==============================================================================\n",
       "Omnibus:                      159.465   Durbin-Watson:                   1.881\n",
       "Prob(Omnibus):                  0.000   Jarque-Bera (JB):             1939.128\n",
       "Skew:                           0.320   Prob(JB):                         0.00\n",
       "Kurtosis:                       9.915   Cond. No.                         159.\n",
       "==============================================================================\n",
       "\n",
       "Warnings:\n",
       "[1] Standard Errors assume that the covariance matrix of the errors is correctly specified.\n",
       "\"\"\""
      ]
     },
     "execution_count": 473,
     "metadata": {},
     "output_type": "execute_result"
    }
   ],
   "source": [
    "pred_sum = '+'.join(predictors.columns)\n",
    "formula = outcome + '~' + pred_sum\n",
    "model = ols(formula=formula, data=df).fit()\n",
    "model.summary()"
   ]
  },
  {
   "cell_type": "markdown",
   "metadata": {},
   "source": [
    "---"
   ]
  },
  {
   "cell_type": "markdown",
   "metadata": {},
   "source": [
    "# <font color='yellow'>Test/Train Split</font>"
   ]
  },
  {
   "cell_type": "markdown",
   "metadata": {},
   "source": [
    "---"
   ]
  },
  {
   "cell_type": "code",
   "execution_count": 474,
   "metadata": {},
   "outputs": [
    {
     "name": "stdout",
     "output_type": "stream",
     "text": [
      "Train MSE: student_attendance_rate_cap    0.000022\n",
      "dtype: float64\n",
      "Test MSE: student_attendance_rate_cap    0.000029\n",
      "dtype: float64\n",
      "Train RMSE: student_attendance_rate_cap    0.004676\n",
      "dtype: float64\n",
      "Test RMSE: student_attendance_rate_cap    0.005379\n",
      "dtype: float64\n"
     ]
    }
   ],
   "source": [
    "# Set dependent variable to \"y\"\n",
    "# Drop dependent variable column and set to \"X\"\n",
    "y = df[['student_attendance_rate_cap']]\n",
    "X = predictors\n",
    "# Get train/test split\n",
    "X_train, X_test, y_train, y_test = train_test_split(X, y, test_size=0.2, random_state=42)\n",
    "# Fit training data to linear regression model and set to variable \"linreg\"\n",
    "linreg = LinearRegression().fit(X_train, y_train)\n",
    "# Get array of values for predictions from training and test sets\n",
    "y_hat_train = linreg.predict(X_train)\n",
    "y_hat_test = linreg.predict(X_test)\n",
    "# Get prediction results (MSE and RMSE)\n",
    "mse_train = np.sum((y_train-y_hat_train)**2)/len(y_train)\n",
    "mse_test = np.sum((y_test-y_hat_test)**2)/len(y_test)\n",
    "print('Train MSE:', mse_train)\n",
    "print('Test MSE:', mse_test)\n",
    "print('Train RMSE:', np.sqrt(mse_train))\n",
    "print('Test RMSE:', np.sqrt(mse_test))"
   ]
  },
  {
   "cell_type": "markdown",
   "metadata": {},
   "source": [
    "---"
   ]
  },
  {
   "cell_type": "markdown",
   "metadata": {},
   "source": [
    "# <font color='yellow'>Modeling Results</font>"
   ]
  },
  {
   "cell_type": "markdown",
   "metadata": {},
   "source": [
    "---"
   ]
  },
  {
   "cell_type": "markdown",
   "metadata": {},
   "source": [
    "### Model 1 (All Parameters)"
   ]
  },
  {
   "cell_type": "markdown",
   "metadata": {},
   "source": [
    "**Parameters:**<br>\n",
    "<br>\n",
    "\n",
    "|Measurement|Result|\n",
    "|---------|--------|\n",
    "|Train RMSE|0.000908|\n",
    "|Test RMSE|0.015365|\n",
    "|Adj R^2|0.945|\n",
    "\n",
    "<br>\n",
    "\n",
    "|Coef|Result|\n",
    "|---------|--------|\n",
    "|Intercept|0.3621|\n",
    "|economic_need_index_cat[T.3]|-0.0005|\n",
    "|economic_need_index_cat[T.2]|-0.0004|\n",
    "|economic_need_index_cat[T.1]|-0.0024|\n",
    "|rigorous_instruction|0.0029|\n",
    "|collab_teachers|0.0155|\n",
    "|support_environ|-0.0029|\n",
    "|effective_school_leadership|-0.0192|\n",
    "|strong_fam_community_ties|0.0350|\n",
    "|trust|-0.0034|\n",
    "|english_language_learners|-0.0090|\n",
    "|students_disabilities|-0.0056|\n",
    "|self_contained|0.0221|\n",
    "|economic_need_index|0.0171|\n",
    "|temp_housing|0.0012|\n",
    "|hra_eligible |-0.0094|\n",
    "|asian|0.0220|\n",
    "|black|0.0212|\n",
    "|hispanic|0.0191|\n",
    "|white|0.0207|\n",
    "|teachers_3_or_more_yrs_exp|0.0023|\n",
    "|chronically_absent|-0.1024|\n",
    "|teacher_attendance_rate|-0.0092| \n",
    "|majority_white|-0.0020|\n",
    "|majority_asian|0.0005|\n",
    "|majority_black|-0.0013| \n",
    "|majority_hispanic|0.0001|\n",
    "|pct_75_economic_need_index|0.0031|\n"
   ]
  },
  {
   "cell_type": "markdown",
   "metadata": {},
   "source": [
    "**Explanation:**<br>\n",
    "The very low and disparate RMSE values could be an indication that the outliers not accounted for in the dependent variable are throwing the numbers off. The high adjusted R<sup>2</sup> value indicate that the model is probably overfitting. This is expected due to this model's use of all parameters. From here I will begin by removing many of the features with high p-values. For the next iteration I will also use the capped attendance rate which has a normal distribution."
   ]
  },
  {
   "cell_type": "markdown",
   "metadata": {},
   "source": [
    "### Model 2"
   ]
  },
  {
   "cell_type": "markdown",
   "metadata": {},
   "source": [
    "**Parameters:**<br>\n",
    "<br>\n",
    "\n",
    "|Measurement|Result|\n",
    "|---------|--------|\n",
    "|Train RMSE|0.004675|\n",
    "|Test RMSE|0.005376|\n",
    "|Adj R^2|0.966|\n",
    "\n",
    "<br>\n",
    "\n",
    "|Coef|Result|P-Value|\n",
    "|---------|--------|--------|\n",
    "|Intercept|0.9545|0.000|\n",
    "|collab_teachers|-0.0016|0.398|\n",
    "|strong_fam_community_ties|0.0058|0.255|\n",
    "|english_language_learners|-0.0026|0.202|\n",
    "|students_disabilities|-0.0088|0.006|\n",
    "|self_contained|0.0073|0.092|\n",
    "|economic_need_index|0.0021|0.280|\n",
    "|asian|0.0248|0.000|\n",
    "|black|0.0119|0.076|\n",
    "|hispanic|0.0156|0.017|\n",
    "|white|0.0134|0.039|\n",
    "|chronically_absent|-0.1885|0.000|\n",
    "|majority_white|-0.0022|0.228|\n",
    "|majority_asian|0.0038|0.011|\n",
    "|majority_black|0.0016|0.040|\n"
   ]
  },
  {
   "cell_type": "markdown",
   "metadata": {},
   "source": [
    "**Explanation:**<br>\n",
    "The low RMSE values and the high adjusted R<sup>2</sup> mean that the values didn't have much of an effect on the target variable. The coefficient values are very low except for chronically absent which appears to have a strong negative effect on the target variable of -18%. From here I plan on removing collab_teachers for its high p-value and trying to add some interactions to see if my features combined have a bigger impact on the target variable."
   ]
  },
  {
   "cell_type": "markdown",
   "metadata": {},
   "source": [
    "---"
   ]
  },
  {
   "cell_type": "markdown",
   "metadata": {},
   "source": [
    "### Model 3"
   ]
  },
  {
   "cell_type": "markdown",
   "metadata": {},
   "source": [
    "**Parameters:**<br>\n",
    "<br>\n",
    "\n",
    "|Measurement|Result|\n",
    "|---------|--------|\n",
    "|Train RMSE|0.004673|\n",
    "|Test RMSE|0.00539|\n",
    "|Adj R^2|0.966|\n",
    "\n",
    "<br>\n",
    "\n",
    "|Coef|Result|P-Value|\n",
    "|---------|--------|--------|\n",
    "|Intercept |\t0.9557|0.000|\n",
    "|strong_fam_community_ties |\t0.0038|0.406|\n",
    "|english_language_learners |\t-0.0021|0.319|\n",
    "|students_disabilities |\t-0.0109|0.006|\n",
    "|self_contained |\t-0.0042|0.737|\n",
    "|economic_need_index |\t0.0023|0.379|\n",
    "|asian |\t0.0245|0.000|\n",
    "|black |\t0.0118|0.084|\n",
    "|hispanic |\t0.0155|0.021|\n",
    "|white |\t0.0130|0.047|\n",
    "|chronically_absent |\t-0.1879|0.000|\n",
    "|majority_white |\t-0.0021|0.253|\n",
    "|majority_asian |0.0037|0.018|\n",
    "|majority_black|0.0016|0.047|\n",
    "|self_c_disabilities|0.0392|0.319|\n",
    "|hra_temp|-0.0016|0.631|\n",
    "|asian_econ|-0.0002|0.971|"
   ]
  },
  {
   "cell_type": "markdown",
   "metadata": {},
   "source": [
    "**Explanation:**<br>\n",
    "The RMSE values didn't change in a substantial way and the adjusted R<sup>2</sup> stayed the same. This means that, again, the values didn't have much of an effect on the target variable. All of my interaction variables had high p-values indicating that they don't have a statistically significant effect on the target variable."
   ]
  },
  {
   "cell_type": "markdown",
   "metadata": {},
   "source": [
    "---"
   ]
  },
  {
   "cell_type": "markdown",
   "metadata": {},
   "source": [
    "### Final Model"
   ]
  },
  {
   "cell_type": "markdown",
   "metadata": {},
   "source": [
    "**Parameters:**<br>\n",
    "<br>\n",
    "\n",
    "|Measurement|Result|\n",
    "|---------|--------|\n",
    "|Train RMSE|0.004676|\n",
    "|Test RMSE|0.005379|\n",
    "|Adj R^2|0.966|\n",
    "\n",
    "<br>\n",
    "\n",
    "|Coef|Result|P-Value|\n",
    "|---------|--------|--------|\n",
    "|Intercept|0.9545|0.000|\n",
    "|strong_fam_community_ties|0.0058|0.255|\n",
    "|english_language_learners|-0.0026|0.202|\n",
    "|students_disabilities|-0.0088|0.006|\n",
    "|self_contained|0.0073|0.092|\n",
    "|economic_need_index|0.0021|0.280|\n",
    "|asian|0.0248|0.000|\n",
    "|black|0.0119|0.076|\n",
    "|hispanic|0.0156|0.017|\n",
    "|white|0.0134|0.039|\n",
    "|chronically_absent|-0.1885|0.000|\n",
    "|majority_white|-0.0022|0.228|\n",
    "|majority_asian|0.0038|0.011|\n",
    "|majority_black|0.0016|0.040|"
   ]
  },
  {
   "cell_type": "markdown",
   "metadata": {},
   "source": [
    "The final model I settled upon is the second iteration minus the collab_teachers feature. It was a matter of removing high p-values and and limiting the number of features since many of my features did not seem to have much of an effect. The three features that had the biggest impact on the dependent variable were chronically_absent, asian, and hispanic. Asian, and Hispanic students had a small impact of +2.5% and +1.6% respectively. Chronically absent had the largest effect driving down attendance rates by -18.9%.   "
   ]
  }
 ],
 "metadata": {
  "kernelspec": {
   "display_name": "Python 3",
   "language": "python",
   "name": "python3"
  },
  "language_info": {
   "codemirror_mode": {
    "name": "ipython",
    "version": 3
   },
   "file_extension": ".py",
   "mimetype": "text/x-python",
   "name": "python",
   "nbconvert_exporter": "python",
   "pygments_lexer": "ipython3",
   "version": "3.7.6"
  }
 },
 "nbformat": 4,
 "nbformat_minor": 4
}
