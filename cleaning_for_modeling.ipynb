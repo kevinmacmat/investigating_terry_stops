{
 "cells": [
  {
   "cell_type": "markdown",
   "metadata": {},
   "source": [
    "# Prep for Modeling"
   ]
  },
  {
   "cell_type": "code",
   "execution_count": null,
   "metadata": {},
   "outputs": [],
   "source": [
    "import pandas as pd\n",
    "import numpy as np"
   ]
  },
  {
   "cell_type": "code",
   "execution_count": null,
   "metadata": {},
   "outputs": [],
   "source": [
    "df = pd.read_csv('terry_stops_eda')"
   ]
  },
  {
   "cell_type": "code",
   "execution_count": null,
   "metadata": {},
   "outputs": [],
   "source": [
    "move values\n",
    "\n",
    "# df = df[df.off_gender != 'N']\n",
    "\n",
    "# df = df[df.off_yob != 1900]\n",
    "\n",
    "# df = df[df.subj_age_group != '-']\n",
    "\n",
    "# df = df[df.off_gender != 'N']\n",
    "\n",
    "# df = df[df.off_race != 'Not Specified']\n",
    "\n",
    "# df = df[(df.subj_perceived_race != '-')&(df.subj_perceived_race != 'Unknown')&(df.subj_perceived_race != 'Other')] # 3287 values dropped\n",
    "\n",
    "# df = df[(df.subj_perceived_gender != 'Unable to Determine')&\n",
    "\n",
    "#     (df.subj_perceived_gender != '-')&\n",
    "\n",
    "#     (df.subj_perceived_gender != 'Unknown')&\n",
    "\n",
    "#     (df.subj_perceived_gender != 'Gender Diverse (gender non-conforming and/or transgender)')]\n",
    "\n",
    "# df = df[df.beat != '-']\n",
    "\n",
    "# df = df[df.call_type != 'None']\n",
    "\n",
    "Remove Columns\n",
    "\n",
    "# df = df.drop(columns=['subj_id', \n",
    "\n",
    "#                      'go_sc_num', # General offense or Street check number. Relates stop to parent report \n",
    "\n",
    "#                      'terry_stop_id',\n",
    "\n",
    "#                      'reported_time',\n",
    "\n",
    "#                      'final_call_type',\n",
    "\n",
    "#                      'off_squad',\n",
    "\n",
    "#                      'precinct',\n",
    "\n",
    "#                      'sector',\n",
    "\n",
    "#                      'arrest_flag'])\n",
    "\n",
    "Duplicate Stop ID's\n",
    "\n",
    "When multiple weapons are found there are duplicate records of a stop in the terry_stop_id column.\n",
    "\n",
    "# df[df['subj_id'] == 7726859935].iloc[0]\n",
    "\n",
    "# df[df['subj_id'] == 7726859935]\n",
    "\n",
    "# df.subj_id.value_counts()[:10]\n",
    "\n",
    "# df.terry_stop_id.value_counts()[:10]\n",
    "\n",
    "# df[df.terry_stop_id.isin([13080077761, 12601385662, 12851512661, 12105013403, 9585545373, 12781960580, 8677596250, 12034618758, 12689034912])]\n",
    "\n",
    "Get officer age by subtracting reported date by officer yob\n",
    "\n",
    "# df['date'] = df['reported_date'].astype(str).str[0:4]\n",
    "\n",
    "# df['date'] = df['date'].astype('int64')\n",
    "\n",
    "# df['off_age'] = df['reported_year'] - df['off_yob']\n",
    "\n"
   ]
  },
  {
   "cell_type": "markdown",
   "metadata": {},
   "source": [
    "### Change call_type to onview and calls"
   ]
  },
  {
   "cell_type": "code",
   "execution_count": null,
   "metadata": {},
   "outputs": [],
   "source": [
    "df = df.replace({'call_type': {'SCHEDULED EVENT (RECURRING)':'call', \n",
    "                               'ONVIEW':'onview',\n",
    "                               'TELEPHONE OTHER, NOT 911':'call',\n",
    "                               'ALARM CALL (NOT POLICE ALARM)':'call',\n",
    "                               'TEXT MESSAGE':'call',\n",
    "                               'PROACTIVE (OFFICER INITIATED)':'onview'}})"
   ]
  },
  {
   "cell_type": "markdown",
   "metadata": {},
   "source": [
    "### Change stop resolution to arrest or no arrest"
   ]
  },
  {
   "cell_type": "code",
   "execution_count": null,
   "metadata": {},
   "outputs": [],
   "source": [
    "df = df.replace({'stop_resolution': {'Offense Report':0,\n",
    "                                     'Arrest':1,\n",
    "                                     'Field Contact':0,\n",
    "                                     'Referred for Prosecution':0,\n",
    "                                     'Citation / Infraction':0}})\n"
   ]
  },
  {
   "cell_type": "markdown",
   "metadata": {},
   "source": [
    "### Change frisk_flag, subj_perceived_gender, off_gender, and call_type to binary"
   ]
  },
  {
   "cell_type": "code",
   "execution_count": null,
   "metadata": {},
   "outputs": [],
   "source": [
    "df.frisk_flag = np.where(df.frisk_flag == 'N', 0, df.frisk_flag)\n",
    "df.frisk_flag = np.where(df.frisk_flag == 'Y', 1, df.frisk_flag)\n",
    "df.subj_perceived_gender = np.where(df.subj_perceived_gender == 'Male', 0, df.subj_perceived_gender)\n",
    "df.subj_perceived_gender = np.where(df.subj_perceived_gender == 'Female', 1, df.subj_perceived_gender)\n",
    "df.off_gender = np.where(df.off_gender == 'M', 0, df.off_gender)\n",
    "df.off_gender = np.where(df.off_gender == 'F', 1, df.off_gender)\n",
    "df.call_type = np.where(df.call_type == 'call', 0, df.call_type)\n",
    "df.call_type = np.where(df.call_type == 'onview', 1, df.call_type)"
   ]
  },
  {
   "cell_type": "markdown",
   "metadata": {},
   "source": [
    "### Make categorical features with dummies"
   ]
  },
  {
   "cell_type": "code",
   "execution_count": null,
   "metadata": {},
   "outputs": [],
   "source": [
    "for col in ['beat', 'subj_age_group', 'weapon', 'subj_perceived_gender', 'off_race', 'subj_perceived_race', 'call_type']:\n",
    "    df[col] = df[col].astype('category')\n",
    "\n",
    "dummies_df = pd.get_dummies(df, columns=[\"subj_age_group\"], prefix=[\"subj_age\"])\n",
    "dummies_df = pd.get_dummies(df, columns=['weapon'], prefix=['weapon'])\n",
    "dummies_df = pd.get_dummies(df, columns=[\"subj_perceived_gender\"], prefix=[\"subj_gender\"])\n",
    "dummies_df = pd.get_dummies(df, columns=[\"off_race\"], prefix=[\"off_race\"])\n",
    "dummies_df = pd.get_dummies(df, columns=[\"subj_perceived_race\"], prefix=[\"subj_race\"])\n",
    "dummies_df = pd.get_dummies(df, columns=[\"call_type\"], prefix=[\"call_type\"])\n",
    "dummies_df = pd.get_dummies(df, columns=[\"beat\"], prefix=[\"beat\"])\n",
    "dummies_df = pd.get_dummies(df, columns=[\"subj_age_group\"], prefix=[\"subj_age\"])\n",
    "\n",
    "dummies_df = dummies_df[dummies_df['call_type'] != 'None']\n",
    "\n",
    "dummies_df = pd.get_dummies(df)"
   ]
  },
  {
   "cell_type": "markdown",
   "metadata": {},
   "source": [
    "### Convert to csv"
   ]
  },
  {
   "cell_type": "code",
   "execution_count": null,
   "metadata": {},
   "outputs": [],
   "source": [
    "dummies_df.to_csv('terry_stops_modeling.csv', index=False) "
   ]
  }
 ],
 "metadata": {
  "kernelspec": {
   "display_name": "Python 3",
   "language": "python",
   "name": "python3"
  },
  "language_info": {
   "codemirror_mode": {
    "name": "ipython",
    "version": 3
   },
   "file_extension": ".py",
   "mimetype": "text/x-python",
   "name": "python",
   "nbconvert_exporter": "python",
   "pygments_lexer": "ipython3",
   "version": "3.7.6"
  }
 },
 "nbformat": 4,
 "nbformat_minor": 4
}
