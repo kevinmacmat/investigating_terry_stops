{
 "cells": [
  {
   "cell_type": "markdown",
   "metadata": {},
   "source": [
    "# Cleaning For EDA"
   ]
  },
  {
   "cell_type": "markdown",
   "metadata": {},
   "source": [
    "## Read in data"
   ]
  },
  {
   "cell_type": "code",
   "execution_count": 1,
   "metadata": {},
   "outputs": [],
   "source": [
    "import pandas as pd\n",
    "import numpy as np"
   ]
  },
  {
   "cell_type": "code",
   "execution_count": 2,
   "metadata": {},
   "outputs": [],
   "source": [
    "df = pd.read_csv('CSV/Terry_Stops.csv')"
   ]
  },
  {
   "cell_type": "markdown",
   "metadata": {},
   "source": [
    "---"
   ]
  },
  {
   "cell_type": "markdown",
   "metadata": {},
   "source": [
    "## Rename columns"
   ]
  },
  {
   "cell_type": "code",
   "execution_count": 3,
   "metadata": {},
   "outputs": [],
   "source": [
    "df = df.rename(columns={'Subject Age Group': 'subj_age_group', \n",
    "                                        'Subject ID': 'subj_id', \n",
    "                                        'GO / SC Num': 'go_sc_num', \n",
    "                                        'Terry Stop ID': 'terry_stop_id', \n",
    "                                        'Stop Resolution': 'stop_resolution', \n",
    "                                        'Weapon Type': 'weapon',\n",
    "                                        'Officer ID': 'off_id',\n",
    "                                        'Officer YOB': 'off_yob',\n",
    "                                        'Officer Gender': 'off_gender',\n",
    "                                        'Officer Race':'off_race',\n",
    "                                        'Subject Perceived Race':'subj_perceived_race',\n",
    "                                        'Subject Perceived Gender':'subj_perceived_gender',\n",
    "                                        'Reported Date':'reported_date',\n",
    "                                        'Reported Time':'reported_time',\n",
    "                                        'Initial Call Type':'init_call_type',\n",
    "                                        'Final Call Type':'final_call_type',\n",
    "                                        'Call Type':'call_type',\n",
    "                                        'Officer Squad':'off_squad',\n",
    "                                        'Arrest Flag':'arrest_flag',\n",
    "                                        'Frisk Flag': 'frisk_flag',\n",
    "                                        'Precinct':'precinct',\n",
    "                                        'Sector':'sector',\n",
    "                                        'Beat':'beat'})"
   ]
  },
  {
   "cell_type": "markdown",
   "metadata": {},
   "source": [
    "---"
   ]
  },
  {
   "cell_type": "markdown",
   "metadata": {},
   "source": [
    "### Change \"-\" values to N/A"
   ]
  },
  {
   "cell_type": "code",
   "execution_count": 4,
   "metadata": {},
   "outputs": [],
   "source": [
    "df = df.replace('-', 'N/A')"
   ]
  },
  {
   "cell_type": "markdown",
   "metadata": {},
   "source": [
    "### Change \"-1\" in Subject ID to N/A"
   ]
  },
  {
   "cell_type": "code",
   "execution_count": 5,
   "metadata": {},
   "outputs": [],
   "source": [
    "df.subj_id = df.subj_id.replace(-1, 'N/A')"
   ]
  },
  {
   "cell_type": "markdown",
   "metadata": {},
   "source": [
    "### Change Officer Squad values to general precint/squad"
   ]
  },
  {
   "cell_type": "code",
   "execution_count": 6,
   "metadata": {},
   "outputs": [],
   "source": [
    "df.off_squad = df.off_squad.replace(to_replace=' -.*', value='', regex=True)"
   ]
  },
  {
   "cell_type": "markdown",
   "metadata": {},
   "source": [
    "### Change Gender value of \"N\" to N/A"
   ]
  },
  {
   "cell_type": "code",
   "execution_count": 7,
   "metadata": {},
   "outputs": [],
   "source": [
    "df.off_gender = df.off_gender.replace('N', 'N/A')"
   ]
  },
  {
   "cell_type": "markdown",
   "metadata": {},
   "source": [
    "### Format Date of Report and Create Officer's Age Column"
   ]
  },
  {
   "cell_type": "code",
   "execution_count": 8,
   "metadata": {},
   "outputs": [],
   "source": [
    "# Remove \"T\" character in timestamp to access time\n",
    "df['reported_date'] = df['reported_date'].str.replace('T', ' ')\n",
    "# Convert series to datetime\n",
    "df['reported_date'] = pd.to_datetime(df['reported_date'])\n",
    "# Create columns for comments' year, month, day, and hour\n",
    "df['reported_year'] = pd.DatetimeIndex(df['reported_date']).year\n",
    "df['reported_month'] = pd.DatetimeIndex(df['reported_date']).month\n",
    "df['reported_day'] = pd.DatetimeIndex(df['reported_date']).day\n",
    "df['reported_hour'] = [x[:2] for x in df['reported_time']]\n",
    "# Subtract officer year of birth from the reported year\n",
    "df['off_age'] = df['reported_year'] - df['off_yob']\n",
    "# Drop post_date column\n",
    "df = df.drop(['reported_date', 'reported_time', 'off_yob'], axis=1)"
   ]
  },
  {
   "cell_type": "markdown",
   "metadata": {},
   "source": [
    "---"
   ]
  },
  {
   "cell_type": "markdown",
   "metadata": {},
   "source": [
    "### Strip Whitespace from beat column"
   ]
  },
  {
   "cell_type": "code",
   "execution_count": 9,
   "metadata": {},
   "outputs": [],
   "source": [
    "df = df.apply(lambda x: x.str.strip() if x.dtype == \"object\" else x)"
   ]
  },
  {
   "cell_type": "markdown",
   "metadata": {},
   "source": [
    "---"
   ]
  },
  {
   "cell_type": "markdown",
   "metadata": {},
   "source": [
    "### Categorize weapons ordinally"
   ]
  },
  {
   "cell_type": "code",
   "execution_count": 10,
   "metadata": {},
   "outputs": [],
   "source": [
    "df = df.replace(to_replace='-', value='None')\n",
    "df = df.replace(to_replace='Lethal Cutting Instrument', value='Blade')\n",
    "df = df.replace(to_replace='Firearm Other', value='Firearm')\n",
    "df = df.replace(to_replace='Handgun', value='Firearm')\n",
    "df = df.replace(to_replace='Club, Blackjack, Brass Knuckles', value='Blunt Object')\n",
    "df = df.replace(to_replace='Knife/Cutting/Stabbing Instrument', value='Blade')\n",
    "df = df.replace(to_replace='Rifle', value='Firearm')\n",
    "df = df.replace(to_replace='Fire/Incendiary Device', value='Non-Lethal')\n",
    "df = df.replace(to_replace='Firearm (unk type)', value='Firearm')\n",
    "df = df.replace(to_replace='Other Firearm', value='Firearm')\n",
    "df = df.replace(to_replace='Club', value='Blunt Object')\n",
    "df = df.replace(to_replace='Mace/Pepper Spray', value='Non-Lethal')\n",
    "df = df.replace(to_replace='Blunt Object/Striking Implement', value='Blunt Object')\n",
    "df = df.replace(to_replace='Firearm', value='Firearm')\n",
    "df = df.replace(to_replace='Brass Knuckles', value='Blunt Object')\n",
    "df = df.replace(to_replace='Automatic Handgun', value='Firearm')\n",
    "df = df.replace(to_replace='Taser/Stun Gun', value='Non-Lethal')\n",
    "df = df.replace(to_replace='None/Not Applicable', value='None')\n",
    "df = df.replace(to_replace='Blackjack', value='Blunt Object')\n",
    "df = df.replace(to_replace='Shotgun', value='Firearm')"
   ]
  },
  {
   "cell_type": "markdown",
   "metadata": {},
   "source": [
    "---"
   ]
  },
  {
   "cell_type": "markdown",
   "metadata": {},
   "source": [
    "### Change officer race from \"Unknown\" and \"Not Specified\" to \"N/A\""
   ]
  },
  {
   "cell_type": "code",
   "execution_count": 11,
   "metadata": {},
   "outputs": [],
   "source": [
    "df.off_race = df.off_race.replace('Unknown', 'N/A')\n",
    "df.off_race = df.off_race.replace('Not Specified', 'N/A')"
   ]
  },
  {
   "cell_type": "markdown",
   "metadata": {},
   "source": [
    "### Change subject's perceived race from \"Unknown\" and \"Other\" to \"N/A\" "
   ]
  },
  {
   "cell_type": "code",
   "execution_count": 12,
   "metadata": {},
   "outputs": [],
   "source": [
    "df.subj_perceived_race = df.subj_perceived_race.replace('Unknown', 'N/A')\n",
    "df.subj_perceived_race = df.subj_perceived_race.replace('Other', 'N/A')"
   ]
  },
  {
   "cell_type": "markdown",
   "metadata": {},
   "source": [
    "### Change subject's perceived gender from \"Unable to Determine\", \"Unknown\", and \"Gender Diverse (gender non-conforming and/or transgender)\" to \"N/A\""
   ]
  },
  {
   "cell_type": "markdown",
   "metadata": {},
   "source": [
    "Gender diverse can encompass too wide a range to be considered useful. For example transgender is not the same as intersex but they would be under the same category. Also someone who identifies as a woman could be mislabeled gender-diverse if they do not have a say in how they are identified. "
   ]
  },
  {
   "cell_type": "code",
   "execution_count": 13,
   "metadata": {},
   "outputs": [],
   "source": [
    "df.subj_perceived_gender = df.subj_perceived_gender.replace(['Unable to Determine', 'Unknown', 'Gender Diverse (gender non-conforming and/or transgender)'], 'N/A')"
   ]
  },
  {
   "cell_type": "markdown",
   "metadata": {},
   "source": [
    "## Combine beats to account for general geographical area, except for H1 and H2/H3 as they are on different sides of the map"
   ]
  },
  {
   "cell_type": "code",
   "execution_count": 14,
   "metadata": {},
   "outputs": [],
   "source": [
    "df['specific_beat'] = df.beat\n",
    "df['beat'] = df.beat.replace(to_replace=['B1','B2','B3'], value='B')\n",
    "df['beat'] = df.beat.replace(to_replace=['C1','C2','C3'], value='C')\n",
    "df['beat'] = df.beat.replace(to_replace=['D1','D2','D3'], value='D')\n",
    "df['beat'] = df.beat.replace(to_replace=['E1','E2','E3'], value='E')\n",
    "df['beat'] = df.beat.replace(to_replace=['F1','F2','F3'], value='F')\n",
    "df['beat'] = df.beat.replace(to_replace=['G1','G2','G3'], value='G')\n",
    "df['beat'] = df.beat.replace(to_replace=['J1','J2','J3'], value='J')\n",
    "df['beat'] = df.beat.replace(to_replace=['K1','K2','K3'], value='K')\n",
    "df['beat'] = df.beat.replace(to_replace=['L1','L2','L3'], value='L')\n",
    "df['beat'] = df.beat.replace(to_replace=['M1','M2','M3'], value='M')\n",
    "df['beat'] = df.beat.replace(to_replace=['N1','N2','N3'], value='N')\n",
    "df['beat'] = df.beat.replace(to_replace=['O1','O2','O3'], value='O')\n",
    "df['beat'] = df.beat.replace(to_replace=['Q1','Q2','Q3'], value='Q')\n",
    "df['beat'] = df.beat.replace(to_replace=['R1','R2','R3'], value='R')\n",
    "df['beat'] = df.beat.replace(to_replace=['S1','S2','S3'], value='S')\n",
    "df['beat'] = df.beat.replace(to_replace=['U1','U2','U3'], value='U')\n",
    "df['beat'] = df.beat.replace(to_replace=['W1','W2','W3'], value='W')"
   ]
  },
  {
   "cell_type": "markdown",
   "metadata": {},
   "source": [
    "---"
   ]
  },
  {
   "cell_type": "markdown",
   "metadata": {},
   "source": [
    "### Convert to csv"
   ]
  },
  {
   "cell_type": "code",
   "execution_count": 15,
   "metadata": {},
   "outputs": [],
   "source": [
    "df.to_csv('terry_stops_eda.csv', index=False)"
   ]
  }
 ],
 "metadata": {
  "kernelspec": {
   "display_name": "Python 3",
   "language": "python",
   "name": "python3"
  },
  "language_info": {
   "codemirror_mode": {
    "name": "ipython",
    "version": 3
   },
   "file_extension": ".py",
   "mimetype": "text/x-python",
   "name": "python",
   "nbconvert_exporter": "python",
   "pygments_lexer": "ipython3",
   "version": "3.7.6"
  }
 },
 "nbformat": 4,
 "nbformat_minor": 4
}
