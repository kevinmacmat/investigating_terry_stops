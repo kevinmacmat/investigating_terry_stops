{
 "cells": [
  {
   "cell_type": "markdown",
   "metadata": {},
   "source": [
    "---"
   ]
  },
  {
   "cell_type": "markdown",
   "metadata": {},
   "source": [
    "## Read in data"
   ]
  },
  {
   "cell_type": "code",
   "execution_count": 2,
   "metadata": {},
   "outputs": [],
   "source": [
    "import pandas as pd\n",
    "import matplotlib.pyplot as plt\n",
    "import seaborn as sns\n",
    "import numpy as np"
   ]
  },
  {
   "cell_type": "code",
   "execution_count": 3,
   "metadata": {},
   "outputs": [],
   "source": [
    "df = pd.read_csv('CSV/Terry_Stops.csv')"
   ]
  },
  {
   "cell_type": "markdown",
   "metadata": {},
   "source": [
    "---"
   ]
  },
  {
   "cell_type": "markdown",
   "metadata": {},
   "source": [
    "## Rename columns"
   ]
  },
  {
   "cell_type": "code",
   "execution_count": 504,
   "metadata": {},
   "outputs": [],
   "source": [
    "df = df.rename(columns={'Subject Age Group': 'subj_age_group', \n",
    "                                        'Subject ID': 'subj_id', \n",
    "                                        'GO / SC Num': 'go_sc_num', \n",
    "                                        'Terry Stop ID': 'terry_stop_id', \n",
    "                                        'Stop Resolution': 'stop_resolution', \n",
    "                                        'Weapon Type': 'weapon',\n",
    "                                        'Officer ID': 'off_id',\n",
    "                                        'Officer YOB': 'off_yob',\n",
    "                                        'Officer Gender': 'off_gender',\n",
    "                                        'Officer Race':'off_race',\n",
    "                                        'Subject Perceived Race':'subj_perceived_race',\n",
    "                                        'Subject Perceived Gender':'subj_perceived_gender',\n",
    "                                        'Reported Date':'reported_date',\n",
    "                                        'Reported Time':'reported_time',\n",
    "                                        'Initial Call Type':'init_call_type',\n",
    "                                        'Final Call Type':'final_call_type',\n",
    "                                        'Call Type':'call_type',\n",
    "                                        'Officer Squad':'off_squad',\n",
    "                                        'Arrest Flag':'arrest_flag',\n",
    "                                        'Frisk Flag': 'frisk_flag',\n",
    "                                        'Precinct':'precinct',\n",
    "                                        'Sector':'sector',\n",
    "                                        'Beat':'beat'})"
   ]
  },
  {
   "cell_type": "markdown",
   "metadata": {},
   "source": [
    "---"
   ]
  },
  {
   "cell_type": "markdown",
   "metadata": {},
   "source": [
    "## Remove values"
   ]
  },
  {
   "cell_type": "code",
   "execution_count": 505,
   "metadata": {},
   "outputs": [],
   "source": [
    "df = df[df.off_gender != 'N']\n",
    "df = df[df.off_yob != 1900]\n",
    "df = df[df.subj_age_group != '-']\n",
    "df = df[df.off_gender != 'N']\n",
    "df = df[df.off_race != 'Not Specified']\n",
    "df = df[(df.subj_perceived_race != '-')&(df.subj_perceived_race != 'Unknown')&(df.subj_perceived_race != 'Other')] # 3287 values dropped\n",
    "df = df[(df.subj_perceived_gender != 'Unable to Determine')&\n",
    "    (df.subj_perceived_gender != '-')&\n",
    "    (df.subj_perceived_gender != 'Unknown')&\n",
    "    (df.subj_perceived_gender != 'Gender Diverse (gender non-conforming and/or transgender)')]\n",
    "df = df[df.beat != '-']\n",
    "df = df[df.call_type != 'None']"
   ]
  },
  {
   "cell_type": "markdown",
   "metadata": {},
   "source": [
    "---"
   ]
  },
  {
   "cell_type": "markdown",
   "metadata": {},
   "source": [
    "## Remove Columns"
   ]
  },
  {
   "cell_type": "code",
   "execution_count": 506,
   "metadata": {},
   "outputs": [],
   "source": [
    "df = df.drop(columns=['subj_id', \n",
    "                     'go_sc_num', \n",
    "                     'terry_stop_id',\n",
    "                     'off_id',\n",
    "                     'reported_time',\n",
    "                     'init_call_type',\n",
    "                     'final_call_type',\n",
    "                     'off_squad',\n",
    "                     'precinct',\n",
    "                     'sector',\n",
    "                     'arrest_flag'])"
   ]
  },
  {
   "cell_type": "markdown",
   "metadata": {},
   "source": [
    "---"
   ]
  },
  {
   "cell_type": "markdown",
   "metadata": {},
   "source": [
    "## Get officer age by subtracting reported date by officer yob"
   ]
  },
  {
   "cell_type": "code",
   "execution_count": 507,
   "metadata": {},
   "outputs": [],
   "source": [
    "df['date'] = df['reported_date'].astype(str).str[0:4]"
   ]
  },
  {
   "cell_type": "code",
   "execution_count": 508,
   "metadata": {},
   "outputs": [],
   "source": [
    "df['date'] = df['date'].astype('int64')"
   ]
  },
  {
   "cell_type": "code",
   "execution_count": 509,
   "metadata": {},
   "outputs": [],
   "source": [
    "df['off_age'] = df['date'] - df['off_yob']"
   ]
  },
  {
   "cell_type": "code",
   "execution_count": 510,
   "metadata": {},
   "outputs": [],
   "source": [
    "df = df.drop(columns=['reported_date', 'off_yob'])"
   ]
  },
  {
   "cell_type": "markdown",
   "metadata": {},
   "source": [
    "## Strip Whitespace from beat column"
   ]
  },
  {
   "cell_type": "code",
   "execution_count": 511,
   "metadata": {},
   "outputs": [],
   "source": [
    "df = df.apply(lambda x: x.str.strip() if x.dtype == \"object\" else x)"
   ]
  },
  {
   "cell_type": "markdown",
   "metadata": {},
   "source": [
    "---"
   ]
  },
  {
   "cell_type": "markdown",
   "metadata": {},
   "source": [
    "## Categorize weapons ordinally"
   ]
  },
  {
   "cell_type": "code",
   "execution_count": 512,
   "metadata": {},
   "outputs": [],
   "source": [
    "df = df.replace(to_replace='-', value='None')\n",
    "df = df.replace(to_replace='Lethal Cutting Instrument', value='Blade')\n",
    "df = df.replace(to_replace='Firearm Other', value='Firearm')\n",
    "df = df.replace(to_replace='Handgun', value='Firearm')\n",
    "df = df.replace(to_replace='Club, Blackjack, Brass Knuckles', value='Blunt Object')\n",
    "df = df.replace(to_replace='Knife/Cutting/Stabbing Instrument', value='Blade')\n",
    "df = df.replace(to_replace='Rifle', value='Firearm')\n",
    "df = df.replace(to_replace='Fire/Incendiary Device', value='Non-Lethal')\n",
    "df = df.replace(to_replace='Firearm (unk type)', value='Firearm')\n",
    "df = df.replace(to_replace='Other Firearm', value='Firearm')\n",
    "df = df.replace(to_replace='Club', value='Blunt Object')\n",
    "df = df.replace(to_replace='Mace/Pepper Spray', value='Non-Lethal')\n",
    "df = df.replace(to_replace='Blunt Object/Striking Implement', value='Blunt Object')\n",
    "df = df.replace(to_replace='Firearm', value='Firearm')\n",
    "df = df.replace(to_replace='Brass Knuckles', value='Blunt Object')\n",
    "df = df.replace(to_replace='Automatic Handgun', value='Firearm')\n",
    "df = df.replace(to_replace='Taser/Stun Gun', value='Non-Lethal')\n",
    "df = df.replace(to_replace='None/Not Applicable', value='None')\n",
    "df = df.replace(to_replace='Blackjack', value='Blunt Object')\n",
    "df = df.replace(to_replace='Shotgun', value='Firearm')"
   ]
  },
  {
   "cell_type": "markdown",
   "metadata": {},
   "source": [
    "---"
   ]
  },
  {
   "cell_type": "markdown",
   "metadata": {},
   "source": [
    "## Change frisk_flag none values to N"
   ]
  },
  {
   "cell_type": "code",
   "execution_count": 513,
   "metadata": {},
   "outputs": [],
   "source": [
    "df = df.replace({'frisk_flag': {'None':'N'}})"
   ]
  },
  {
   "cell_type": "markdown",
   "metadata": {},
   "source": [
    "---"
   ]
  },
  {
   "cell_type": "markdown",
   "metadata": {},
   "source": [
    "## Change call_type to onview and calls"
   ]
  },
  {
   "cell_type": "code",
   "execution_count": 514,
   "metadata": {},
   "outputs": [],
   "source": [
    "df = df.replace({'call_type': {'911':'call', \n",
    "                               'ONVIEW':'onview',\n",
    "                               'TELEPHONE OTHER, NOT 911':'call',\n",
    "                               'ALARM CALL (NOT POLICE ALARM)':'call',\n",
    "                               'TEXT MESSAGE':'call',\n",
    "                               'PROACTIVE (OFFICER INITIATED)':'onview'}})"
   ]
  },
  {
   "cell_type": "markdown",
   "metadata": {},
   "source": [
    "---"
   ]
  },
  {
   "cell_type": "markdown",
   "metadata": {},
   "source": [
    "## Change stop resolution to arrest or no arrest"
   ]
  },
  {
   "cell_type": "code",
   "execution_count": 515,
   "metadata": {},
   "outputs": [],
   "source": [
    "df = df.replace({'stop_resolution': {'Offense Report':0,\n",
    "                                     'Arrest':1,\n",
    "                                     'Field Contact':0,\n",
    "                                     'Referred for Prosecution':0,\n",
    "                                     'Citation / Infraction':0}})"
   ]
  },
  {
   "cell_type": "markdown",
   "metadata": {},
   "source": [
    "---"
   ]
  },
  {
   "cell_type": "markdown",
   "metadata": {},
   "source": [
    "## Combine beats except for H1 and H2/H3 as they are on different sides of the map"
   ]
  },
  {
   "cell_type": "code",
   "execution_count": 516,
   "metadata": {},
   "outputs": [],
   "source": [
    "df = df.replace(to_replace='B1', value='B')\n",
    "df = df.replace(to_replace='B2', value='B')\n",
    "df = df.replace(to_replace='B3', value='B')\n",
    "df = df.replace(to_replace='C1', value='C')\n",
    "df = df.replace(to_replace='C2', value='C')\n",
    "df = df.replace(to_replace='C3', value='C')\n",
    "df = df.replace(to_replace='D1', value='D')\n",
    "df = df.replace(to_replace='D2', value='D')\n",
    "df = df.replace(to_replace='D3', value='D')\n",
    "df = df.replace(to_replace='E1', value='E')\n",
    "df = df.replace(to_replace='E2', value='E')\n",
    "df = df.replace(to_replace='E3', value='E')\n",
    "df = df.replace(to_replace='F1', value='F')\n",
    "df = df.replace(to_replace='F2', value='F')\n",
    "df = df.replace(to_replace='F3', value='F')\n",
    "df = df.replace(to_replace='G1', value='G')\n",
    "df = df.replace(to_replace='G2', value='G')\n",
    "df = df.replace(to_replace='G3', value='G')\n",
    "df = df.replace(to_replace='J1', value='J')\n",
    "df = df.replace(to_replace='J2', value='J')\n",
    "df = df.replace(to_replace='J3', value='J')\n",
    "df = df.replace(to_replace='K1', value='K')\n",
    "df = df.replace(to_replace='K2', value='K')\n",
    "df = df.replace(to_replace='K3', value='K')\n",
    "df = df.replace(to_replace='L1', value='L')\n",
    "df = df.replace(to_replace='L2', value='L')\n",
    "df = df.replace(to_replace='L3', value='L')\n",
    "df = df.replace(to_replace='M1', value='M')\n",
    "df = df.replace(to_replace='M2', value='M')\n",
    "df = df.replace(to_replace='M3', value='M')\n",
    "df = df.replace(to_replace='N1', value='N')\n",
    "df = df.replace(to_replace='N2', value='N')\n",
    "df = df.replace(to_replace='N3', value='N')\n",
    "df = df.replace(to_replace='O1', value='O')\n",
    "df = df.replace(to_replace='O2', value='O')\n",
    "df = df.replace(to_replace='O3', value='O')\n",
    "df = df.replace(to_replace='Q1', value='Q')\n",
    "df = df.replace(to_replace='Q2', value='Q')\n",
    "df = df.replace(to_replace='Q3', value='Q')\n",
    "df = df.replace(to_replace='R1', value='R')\n",
    "df = df.replace(to_replace='R2', value='R')\n",
    "df = df.replace(to_replace='R3', value='R')\n",
    "df = df.replace(to_replace='S1', value='S')\n",
    "df = df.replace(to_replace='S2', value='S')\n",
    "df = df.replace(to_replace='S3', value='S')\n",
    "df = df.replace(to_replace='U1', value='U')\n",
    "df = df.replace(to_replace='U2', value='U')\n",
    "df = df.replace(to_replace='U3', value='U')\n",
    "df = df.replace(to_replace='W1', value='W')\n",
    "df = df.replace(to_replace='W2', value='W')\n",
    "df = df.replace(to_replace='W3', value='W')"
   ]
  },
  {
   "cell_type": "markdown",
   "metadata": {},
   "source": [
    "---"
   ]
  },
  {
   "cell_type": "markdown",
   "metadata": {},
   "source": [
    "## Change frisk_flag, subj_perceived_gender, , off_gender, and call_type to binary"
   ]
  },
  {
   "cell_type": "code",
   "execution_count": 517,
   "metadata": {},
   "outputs": [],
   "source": [
    "df.frisk_flag = np.where(df.frisk_flag == 'N', 0, df.frisk_flag)\n",
    "df.frisk_flag = np.where(df.frisk_flag == 'Y', 1, df.frisk_flag)\n",
    "df.subj_perceived_gender = np.where(df.subj_perceived_gender == 'Male', 0, df.subj_perceived_gender)\n",
    "df.subj_perceived_gender = np.where(df.subj_perceived_gender == 'Female', 1, df.subj_perceived_gender)\n",
    "df.off_gender = np.where(df.off_gender == 'M', 0, df.off_gender)\n",
    "df.off_gender = np.where(df.off_gender == 'F', 1, df.off_gender)\n",
    "df.call_type = np.where(df.call_type == 'call', 0, df.call_type)\n",
    "df.call_type = np.where(df.call_type == 'onview', 1, df.call_type)"
   ]
  },
  {
   "cell_type": "markdown",
   "metadata": {},
   "source": [
    "---"
   ]
  },
  {
   "cell_type": "markdown",
   "metadata": {},
   "source": [
    "## Make categorical features with dummies"
   ]
  },
  {
   "cell_type": "code",
   "execution_count": 518,
   "metadata": {},
   "outputs": [],
   "source": [
    "for col in ['beat', 'subj_age_group', 'weapon', 'subj_perceived_gender', 'off_race', 'subj_perceived_race', 'call_type']:\n",
    "    df[col] = df[col].astype('category')"
   ]
  },
  {
   "cell_type": "code",
   "execution_count": 533,
   "metadata": {},
   "outputs": [
    {
     "data": {
      "text/plain": [
       "subj_age_group           category\n",
       "stop_resolution             int64\n",
       "weapon                   category\n",
       "off_gender                 object\n",
       "off_race                 category\n",
       "subj_perceived_race      category\n",
       "subj_perceived_gender    category\n",
       "call_type                category\n",
       "frisk_flag                 object\n",
       "beat                     category\n",
       "date                        int64\n",
       "off_age                     int64\n",
       "dtype: object"
      ]
     },
     "execution_count": 533,
     "metadata": {},
     "output_type": "execute_result"
    }
   ],
   "source": [
    "df.dtypes"
   ]
  },
  {
   "cell_type": "code",
   "execution_count": 534,
   "metadata": {},
   "outputs": [],
   "source": [
    "dummies_df = pd.get_dummies(df, columns=[\"subj_age_group\"], prefix=[\"subj_age\"])\n",
    "dummies_df = pd.get_dummies(df, columns=['weapon'], prefix=['weapon'])\n",
    "dummies_df = pd.get_dummies(df, columns=[\"subj_perceived_gender\"], prefix=[\"subj_gender\"])\n",
    "dummies_df = pd.get_dummies(df, columns=[\"off_race\"], prefix=[\"off_race\"])\n",
    "dummies_df = pd.get_dummies(df, columns=[\"subj_perceived_race\"], prefix=[\"subj_race\"])\n",
    "dummies_df = pd.get_dummies(df, columns=[\"call_type\"], prefix=[\"call_type\"])\n",
    "dummies_df = pd.get_dummies(df, columns=[\"beat\"], prefix=[\"beat\"])"
   ]
  },
  {
   "cell_type": "code",
   "execution_count": 531,
   "metadata": {},
   "outputs": [],
   "source": [
    "dummies_df = pd.get_dummies(df, columns=[\"beat\"], prefix=[\"beat\"])"
   ]
  },
  {
   "cell_type": "code",
   "execution_count": 536,
   "metadata": {},
   "outputs": [],
   "source": [
    "dummies_df = pd.get_dummies(df, columns=[\"subj_age_group\"], prefix=[\"subj_age\"])"
   ]
  },
  {
   "cell_type": "code",
   "execution_count": 537,
   "metadata": {},
   "outputs": [],
   "source": [
    "dummies_df = dummies_df[dummies_df['call_type'] != 'None']"
   ]
  },
  {
   "cell_type": "code",
   "execution_count": 539,
   "metadata": {},
   "outputs": [],
   "source": [
    "dummies_df = pd.get_dummies(df)"
   ]
  },
  {
   "cell_type": "code",
   "execution_count": 540,
   "metadata": {},
   "outputs": [
    {
     "data": {
      "text/plain": [
       "['stop_resolution',\n",
       " 'date',\n",
       " 'off_age',\n",
       " 'subj_age_group_1 - 17',\n",
       " 'subj_age_group_18 - 25',\n",
       " 'subj_age_group_26 - 35',\n",
       " 'subj_age_group_36 - 45',\n",
       " 'subj_age_group_46 - 55',\n",
       " 'subj_age_group_56 and Above',\n",
       " 'weapon_Blade',\n",
       " 'weapon_Blunt Object',\n",
       " 'weapon_Firearm',\n",
       " 'weapon_Non-Lethal',\n",
       " 'weapon_None',\n",
       " 'off_gender_0',\n",
       " 'off_gender_1',\n",
       " 'off_race_American Indian/Alaska Native',\n",
       " 'off_race_Asian',\n",
       " 'off_race_Black or African American',\n",
       " 'off_race_Hispanic or Latino',\n",
       " 'off_race_Nat Hawaiian/Oth Pac Islander',\n",
       " 'off_race_Two or More Races',\n",
       " 'off_race_White',\n",
       " 'subj_perceived_race_American Indian or Alaska Native',\n",
       " 'subj_perceived_race_Asian',\n",
       " 'subj_perceived_race_Black or African American',\n",
       " 'subj_perceived_race_Hispanic',\n",
       " 'subj_perceived_race_Multi-Racial',\n",
       " 'subj_perceived_race_Native Hawaiian or Other Pacific Islander',\n",
       " 'subj_perceived_race_White',\n",
       " 'subj_perceived_gender_0',\n",
       " 'subj_perceived_gender_1',\n",
       " 'call_type_0',\n",
       " 'call_type_1',\n",
       " 'call_type_None',\n",
       " 'frisk_flag_0',\n",
       " 'frisk_flag_1',\n",
       " 'beat_99',\n",
       " 'beat_B',\n",
       " 'beat_C',\n",
       " 'beat_D',\n",
       " 'beat_E',\n",
       " 'beat_F',\n",
       " 'beat_G',\n",
       " 'beat_J',\n",
       " 'beat_K',\n",
       " 'beat_L',\n",
       " 'beat_M',\n",
       " 'beat_N',\n",
       " 'beat_O',\n",
       " 'beat_OOJ',\n",
       " 'beat_Q',\n",
       " 'beat_R',\n",
       " 'beat_S',\n",
       " 'beat_U',\n",
       " 'beat_W']"
      ]
     },
     "execution_count": 540,
     "metadata": {},
     "output_type": "execute_result"
    }
   ],
   "source": [
    "list(dummies_df.columns)"
   ]
  },
  {
   "cell_type": "code",
   "execution_count": 541,
   "metadata": {},
   "outputs": [],
   "source": [
    "dummies_df.to_csv('cleaned_terry_stops_v2.csv', index=False) "
   ]
  },
  {
   "cell_type": "code",
   "execution_count": 544,
   "metadata": {},
   "outputs": [],
   "source": [
    "df.to_csv('nc_terry_stops_v2.csv', index=False)"
   ]
  }
 ],
 "metadata": {
  "kernelspec": {
   "display_name": "Python 3",
   "language": "python",
   "name": "python3"
  },
  "language_info": {
   "codemirror_mode": {
    "name": "ipython",
    "version": 3
   },
   "file_extension": ".py",
   "mimetype": "text/x-python",
   "name": "python",
   "nbconvert_exporter": "python",
   "pygments_lexer": "ipython3",
   "version": "3.7.6"
  }
 },
 "nbformat": 4,
 "nbformat_minor": 4
}
