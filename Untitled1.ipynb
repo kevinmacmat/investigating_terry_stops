{
 "cells": [
  {
   "cell_type": "code",
   "execution_count": 3,
   "metadata": {},
   "outputs": [],
   "source": [
    "import pandas as pd\n",
    "import numpy as np\n",
    "from scipy.linalg import diagsvd\n",
    "%matplotlib inline\n",
    "import matplotlib.pyplot as plt\n",
    "\n",
    "import functools\n",
    "def Matrix_mult(*args):\n",
    "    \"\"\"An internal method to multiply matrices.\"\"\"\n",
    "    return functools.reduce(np.dot, args)\n",
    "\n",
    "np.set_printoptions(formatter={'float': '{: 0.4f}'.format})\n",
    "pd.set_option('display.precision', 5)\n",
    "pd.set_option('display.max_columns', 25)"
   ]
  },
  {
   "cell_type": "code",
   "execution_count": null,
   "metadata": {},
   "outputs": [],
   "source": [
    "df = pd.read_csv('CSV/Terry_Stops.csv')\n",
    "X = df.drop('')"
   ]
  }
 ],
 "metadata": {
  "kernelspec": {
   "display_name": "Python 3",
   "language": "python",
   "name": "python3"
  },
  "language_info": {
   "codemirror_mode": {
    "name": "ipython",
    "version": 3
   },
   "file_extension": ".py",
   "mimetype": "text/x-python",
   "name": "python",
   "nbconvert_exporter": "python",
   "pygments_lexer": "ipython3",
   "version": "3.7.6"
  }
 },
 "nbformat": 4,
 "nbformat_minor": 4
}
