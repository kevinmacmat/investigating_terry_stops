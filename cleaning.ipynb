{
 "cells": [
  {
   "cell_type": "markdown",
   "metadata": {},
   "source": [
    "---"
   ]
  },
  {
   "cell_type": "markdown",
   "metadata": {},
   "source": [
    "## Read in data"
   ]
  },
  {
   "cell_type": "code",
   "execution_count": 1,
   "metadata": {},
   "outputs": [],
   "source": [
    "import pandas as pd\n",
    "import matplotlib.pyplot as plt\n",
    "import seaborn as sns\n",
    "import numpy as np"
   ]
  },
  {
   "cell_type": "code",
   "execution_count": 2,
   "metadata": {},
   "outputs": [],
   "source": [
    "df = pd.read_csv('CSV/Terry_Stops.csv')"
   ]
  },
  {
   "cell_type": "markdown",
   "metadata": {},
   "source": [
    "---"
   ]
  },
  {
   "cell_type": "markdown",
   "metadata": {},
   "source": [
    "## Rename columns"
   ]
  },
  {
   "cell_type": "code",
   "execution_count": 4,
   "metadata": {},
   "outputs": [],
   "source": [
    "df = df.rename(columns={'Subject Age Group': 'subj_age_group', \n",
    "                                        'Subject ID': 'subj_id', \n",
    "                                        'GO / SC Num': 'go_sc_num', \n",
    "                                        'Terry Stop ID': 'terry_stop_id', \n",
    "                                        'Stop Resolution': 'stop_resolution', \n",
    "                                        'Weapon Type': 'weapon',\n",
    "                                        'Officer ID': 'off_id',\n",
    "                                        'Officer YOB': 'off_yob',\n",
    "                                        'Officer Gender': 'off_gender',\n",
    "                                        'Officer Race':'off_race',\n",
    "                                        'Subject Perceived Race':'subj_perceived_race',\n",
    "                                        'Subject Perceived Gender':'subj_perceived_gender',\n",
    "                                        'Reported Date':'reported_date',\n",
    "                                        'Reported Time':'reported_time',\n",
    "                                        'Initial Call Type':'init_call_type',\n",
    "                                        'Final Call Type':'final_call_type',\n",
    "                                        'Call Type':'call_type',\n",
    "                                        'Officer Squad':'off_squad',\n",
    "                                        'Arrest Flag':'arrest_flag',\n",
    "                                        'Frisk Flag': 'frisk_flag',\n",
    "                                        'Precinct':'precinct',\n",
    "                                        'Sector':'sector',\n",
    "                                        'Beat':'beat'})"
   ]
  },
  {
   "cell_type": "markdown",
   "metadata": {},
   "source": [
    "---"
   ]
  },
  {
   "cell_type": "markdown",
   "metadata": {},
   "source": [
    "## Call Types - Move To EDA Notebook"
   ]
  },
  {
   "cell_type": "code",
   "execution_count": 57,
   "metadata": {},
   "outputs": [
    {
     "name": "stdout",
     "output_type": "stream",
     "text": [
      "Empty Values: 12802\n",
      "Calls for Police: 29764\n",
      "\n",
      "---------------------------------------------\n",
      "Top 20 Initial Call Types: \n",
      "---------------------------------------------\n",
      "SUSPICIOUS STOP - OFFICER INITIATED ONVIEW          2760\n",
      "SUSPICIOUS PERSON, VEHICLE OR INCIDENT              2636\n",
      "DISTURBANCE, MISCELLANEOUS/OTHER                    2199\n",
      "ASLT - IP/JO - WITH OR W/O WPNS (NO SHOOTINGS)      1768\n",
      "TRESPASS                                            1678\n",
      "THEFT (DOES NOT INCLUDE SHOPLIFT OR SVCS)           1260\n",
      "SHOPLIFT - THEFT                                    1158\n",
      "FIGHT - IP - PHYSICAL (NO WEAPONS)                  1150\n",
      "WEAPN-IP/JO-GUN,DEADLY WPN (NO THRT/ASLT/DIST)      1033\n",
      "ROBBERY - IP/JO (INCLUDES STRONG ARM)                784\n",
      "NARCOTICS - VIOLATIONS (LOITER, USE, SELL, NARS)     655\n",
      "BURG - IP/JO - RES (INCL UNOCC STRUCTURES)           645\n",
      "DIST - IP/JO - DV DIST - NO ASLT                     627\n",
      "THREATS (INCLS IN-PERSON/BY PHONE/IN WRITING)        614\n",
      "PROPERTY - DAMAGE                                    579\n",
      "ASLT - IP/JO - DV                                    573\n",
      "TRAFFIC STOP - OFFICER INITIATED ONVIEW              552\n",
      "AUTO RECOVERY                                        520\n",
      "ASLT - WITH OR W/O WEAPONS (NO SHOOTINGS)            478\n",
      "WARRANT - FELONY PICKUP                              419\n",
      "Name: init_call_type, dtype: int64\n",
      "\n",
      "---------------------------------------------\n",
      "Top 20 Final (Officer Determined) Call Types: \n",
      "---------------------------------------------\n",
      "--SUSPICIOUS CIRCUM. - SUSPICIOUS PERSON        3236\n",
      "--PROWLER - TRESPASS                            2922\n",
      "--DISTURBANCE - OTHER                           2395\n",
      "--ASSAULTS, OTHER                               2036\n",
      "--WARRANT SERVICES - FELONY                     1572\n",
      "--DV - ARGUMENTS, DISTURBANCE (NO ARREST)       1209\n",
      "--DV - DOMESTIC VIOL/ASLT (ARREST MANDATORY)    1063\n",
      "--THEFT - SHOPLIFT                              1052\n",
      "--WARRANT SERVICES - MISDEMEANOR                1011\n",
      "--ASSAULTS - HARASSMENT, THREATS                 896\n",
      "--NARCOTICS - OTHER                              841\n",
      "--CRISIS COMPLAINT - GENERAL                     771\n",
      "--SUSPICIOUS CIRCUM. - SUSPICIOUS VEHICLE        738\n",
      "--THEFT - ALL OTHER                              734\n",
      "--PROPERTY DEST (DAMG)                           626\n",
      "--ROBBERY - STRONG ARM                           562\n",
      "--TRAFFIC - D.U.I.                               505\n",
      "--THEFT - CAR PROWL                              468\n",
      "--DISTURBANCE - FIGHT                            452\n",
      "--WEAPON, PERSON WITH - GUN                      449\n",
      "Name: final_call_type, dtype: int64\n",
      "\n",
      "---------------------------------------------\n",
      "How Call Was Made:\n",
      "---------------------------------------------\n",
      "911                              18536\n",
      "-                                12802\n",
      "ONVIEW                            8036\n",
      "TELEPHONE OTHER, NOT 911          2933\n",
      "ALARM CALL (NOT POLICE ALARM)      254\n",
      "PROACTIVE (OFFICER INITIATED)        2\n",
      "TEXT MESSAGE                         2\n",
      "SCHEDULED EVENT (RECURRING)          1\n",
      "Name: call_type, dtype: int64\n"
     ]
    }
   ],
   "source": [
    "print('{} {}'.format('Empty Values:', df.init_call_type.value_counts()[0].sum()))\n",
    "print('{} {}\\n'.format('Calls for Police:', df.init_call_type.value_counts()[1:].sum()))\n",
    "print('{}\\n{}\\n{}\\n{}\\n'.format('---'*15, 'Top 20 Initial Call Types: ', '---'*15, df.init_call_type.value_counts()[1:21]))\n",
    "print('{}\\n{}\\n{}\\n{}'.format('---'*15, 'Top 20 Final (Officer Determined) Call Types: ', '---'*15, df.final_call_type.value_counts()[1:21]))\n",
    "print('\\n{}\\n{}\\n{}\\n{}'.format('---'*15, 'How Call Was Made:', '---'*15, df.call_type.value_counts()))"
   ]
  },
  {
   "cell_type": "code",
   "execution_count": 59,
   "metadata": {},
   "outputs": [
    {
     "data": {
      "text/plain": [
       "Field Contact               16782\n",
       "Offense Report              14606\n",
       "Arrest                      10285\n",
       "Referred for Prosecution      728\n",
       "Citation / Infraction         165\n",
       "Name: stop_resolution, dtype: int64"
      ]
     },
     "execution_count": 59,
     "metadata": {},
     "output_type": "execute_result"
    }
   ],
   "source": [
    "# Resolution of the stop as reported by the officer.\n",
    "df.stop_resolution.value_counts()"
   ]
  },
  {
   "cell_type": "code",
   "execution_count": 60,
   "metadata": {},
   "outputs": [
    {
     "data": {
      "text/plain": [
       "N    40489\n",
       "Y     2077\n",
       "Name: arrest_flag, dtype: int64"
      ]
     },
     "execution_count": 60,
     "metadata": {},
     "output_type": "execute_result"
    }
   ],
   "source": [
    "# Indicator of whether a \"physical arrest\" was made, of the subject, during the Terry Stop.\n",
    "# Does not necessarily reflect a report of an arrest in the Records Management System (RMS)\n",
    "df.arrest_flag.value_counts()"
   ]
  },
  {
   "cell_type": "code",
   "execution_count": 61,
   "metadata": {},
   "outputs": [
    {
     "data": {
      "text/plain": [
       "N    32755\n",
       "Y     9333\n",
       "-      478\n",
       "Name: frisk_flag, dtype: int64"
      ]
     },
     "execution_count": 61,
     "metadata": {},
     "output_type": "execute_result"
    }
   ],
   "source": [
    "# Indicator of whether a \"physical arrest\" was made, of the subject, during the Terry Stop.\n",
    "df.frisk_flag.value_counts()"
   ]
  },
  {
   "cell_type": "markdown",
   "metadata": {},
   "source": [
    "## Remove values"
   ]
  },
  {
   "cell_type": "code",
   "execution_count": null,
   "metadata": {},
   "outputs": [],
   "source": [
    "df = df[df.off_gender != 'N']\n",
    "df = df[df.off_yob != 1900]\n",
    "df = df[df.subj_age_group != '-']\n",
    "df = df[df.off_gender != 'N']\n",
    "df = df[df.off_race != 'Not Specified']\n",
    "df = df[(df.subj_perceived_race != '-')&(df.subj_perceived_race != 'Unknown')&(df.subj_perceived_race != 'Other')] # 3287 values dropped\n",
    "df = df[(df.subj_perceived_gender != 'Unable to Determine')&\n",
    "    (df.subj_perceived_gender != '-')&\n",
    "    (df.subj_perceived_gender != 'Unknown')&\n",
    "    (df.subj_perceived_gender != 'Gender Diverse (gender non-conforming and/or transgender)')]\n",
    "df = df[df.beat != '-']\n",
    "df = df[df.call_type != 'None']"
   ]
  },
  {
   "cell_type": "markdown",
   "metadata": {},
   "source": [
    "---"
   ]
  },
  {
   "cell_type": "code",
   "execution_count": 64,
   "metadata": {},
   "outputs": [
    {
     "data": {
      "text/plain": [
       "TRAINING - FIELD TRAINING SQUAD          4534\n",
       "WEST PCT 1ST W - DAVID/MARY              1353\n",
       "WEST PCT 2ND W - D/M RELIEF               905\n",
       "NORTH PCT 2ND WATCH - NORTH BEATS         885\n",
       "SOUTHWEST PCT 2ND W - FRANK               852\n",
       "EAST PCT 3RD W - E/G RELIEF               762\n",
       "WEST PCT 1ST W - KQ/DM RELIEF             746\n",
       "WEST PCT 3RD W - DAVID                    746\n",
       "WEST PCT 1ST W - KING/QUEEN               729\n",
       "EAST PCT 1ST W - E/G RELIEF (CHARLIE)     723\n",
       "Name: off_squad, dtype: int64"
      ]
     },
     "execution_count": 64,
     "metadata": {},
     "output_type": "execute_result"
    }
   ],
   "source": [
    "df.off_squad.value_counts()[:10]"
   ]
  },
  {
   "cell_type": "code",
   "execution_count": 67,
   "metadata": {},
   "outputs": [
    {
     "data": {
      "text/plain": [
       "subj_age_group                               -\n",
       "subj_id                                     -1\n",
       "go_sc_num                       20150000002451\n",
       "terry_stop_id                            46430\n",
       "stop_resolution                  Field Contact\n",
       "weapon                                    None\n",
       "off_id                                  7591  \n",
       "off_yob                                   1985\n",
       "off_gender                                   M\n",
       "off_race                    Hispanic or Latino\n",
       "subj_perceived_race                          -\n",
       "subj_perceived_gender                        -\n",
       "reported_date              2015-05-25T00:00:00\n",
       "reported_time                         01:06:00\n",
       "init_call_type                               -\n",
       "final_call_type                              -\n",
       "call_type                                    -\n",
       "off_squad                WEST PCT 3RD W - MARY\n",
       "arrest_flag                                  N\n",
       "frisk_flag                                   N\n",
       "precinct                                     -\n",
       "sector                                       -\n",
       "beat                                         -\n",
       "Name: 4, dtype: object"
      ]
     },
     "execution_count": 67,
     "metadata": {},
     "output_type": "execute_result"
    }
   ],
   "source": [
    "df[df.precinct == '-'].iloc[3]"
   ]
  },
  {
   "cell_type": "code",
   "execution_count": 65,
   "metadata": {},
   "outputs": [
    {
     "data": {
      "text/plain": [
       "West         9664\n",
       "-            9596\n",
       "North        9417\n",
       "East         5675\n",
       "South        5036\n",
       "Southwest    2320\n",
       "SouthWest     624\n",
       "Unknown       200\n",
       "OOJ            21\n",
       "FK ERROR       13\n",
       "Name: precinct, dtype: int64"
      ]
     },
     "execution_count": 65,
     "metadata": {},
     "output_type": "execute_result"
    }
   ],
   "source": [
    "df.precinct.value_counts()[:10]"
   ]
  },
  {
   "cell_type": "markdown",
   "metadata": {},
   "source": [
    "## Remove Columns"
   ]
  },
  {
   "cell_type": "code",
   "execution_count": null,
   "metadata": {},
   "outputs": [],
   "source": [
    "df = df.drop(columns=['subj_id', \n",
    "                     'go_sc_num', # General offense or Street check number. Relates stop to parent report \n",
    "                     'terry_stop_id',\n",
    "                     'reported_time',\n",
    "                     'final_call_type',\n",
    "                     'off_squad',\n",
    "                     'precinct',\n",
    "                     'sector',\n",
    "                     'arrest_flag'])"
   ]
  },
  {
   "cell_type": "markdown",
   "metadata": {},
   "source": [
    "---"
   ]
  },
  {
   "cell_type": "markdown",
   "metadata": {},
   "source": [
    "## Duplicate Stop ID's"
   ]
  },
  {
   "cell_type": "markdown",
   "metadata": {},
   "source": [
    "When multiple weapons are found there are duplicate records of a stop."
   ]
  },
  {
   "cell_type": "code",
   "execution_count": null,
   "metadata": {},
   "outputs": [],
   "source": [
    "df[df['subj_id'] == 7726859935].iloc[0]"
   ]
  },
  {
   "cell_type": "code",
   "execution_count": null,
   "metadata": {},
   "outputs": [],
   "source": [
    "df[df['subj_id'] == 7726859935]"
   ]
  },
  {
   "cell_type": "code",
   "execution_count": null,
   "metadata": {},
   "outputs": [],
   "source": [
    "df.subj_id.value_counts()[:10]"
   ]
  },
  {
   "cell_type": "code",
   "execution_count": null,
   "metadata": {},
   "outputs": [],
   "source": [
    "df.terry_stop_id.value_counts()[:10]"
   ]
  },
  {
   "cell_type": "code",
   "execution_count": null,
   "metadata": {
    "scrolled": true
   },
   "outputs": [],
   "source": [
    "df[df.terry_stop_id.isin([13080077761, 12601385662, 12851512661, 12105013403, 9585545373, 12781960580, 8677596250, 12034618758, 12689034912])]"
   ]
  },
  {
   "cell_type": "code",
   "execution_count": null,
   "metadata": {},
   "outputs": [],
   "source": []
  },
  {
   "cell_type": "markdown",
   "metadata": {},
   "source": [
    "---"
   ]
  },
  {
   "cell_type": "markdown",
   "metadata": {},
   "source": [
    "## Format Date of Report"
   ]
  },
  {
   "cell_type": "code",
   "execution_count": null,
   "metadata": {},
   "outputs": [],
   "source": [
    "# Remove \"T\" character in timestamp to access time\n",
    "df['reported_date'] = df['reported_date'].str.replace('T', ' ')\n",
    "# Convert series to datetime\n",
    "df['reported_date'] = pd.to_datetime(df['reported_date'])\n",
    "# Create columns for comments' year, month, day, and hour\n",
    "df['reported_year'] = pd.DatetimeIndex(df['reported_date']).year\n",
    "df['reported_month'] = pd.DatetimeIndex(df['reported_date']).month\n",
    "df['reported_day'] = pd.DatetimeIndex(df['reported_date']).day\n",
    "df['reported_hour'] = [x[:2] for x in df['reported_time']]\n",
    "# Drop post_date column\n",
    "df = df.drop(['reported_date', 'reported_time'], axis=1)"
   ]
  },
  {
   "cell_type": "code",
   "execution_count": null,
   "metadata": {},
   "outputs": [],
   "source": [
    "df.head(1)"
   ]
  },
  {
   "cell_type": "markdown",
   "metadata": {},
   "source": [
    "---"
   ]
  },
  {
   "cell_type": "markdown",
   "metadata": {},
   "source": [
    "## Get officer age by subtracting reported date by officer yob"
   ]
  },
  {
   "cell_type": "code",
   "execution_count": null,
   "metadata": {},
   "outputs": [],
   "source": [
    "df['date'] = df['reported_date'].astype(str).str[0:4]"
   ]
  },
  {
   "cell_type": "code",
   "execution_count": null,
   "metadata": {},
   "outputs": [],
   "source": [
    "df['date'] = df['date'].astype('int64')"
   ]
  },
  {
   "cell_type": "code",
   "execution_count": null,
   "metadata": {},
   "outputs": [],
   "source": [
    "df['off_age'] = df['date'] - df['off_yob']"
   ]
  },
  {
   "cell_type": "code",
   "execution_count": null,
   "metadata": {},
   "outputs": [],
   "source": [
    "df = df.drop(columns=['reported_date', 'off_yob'])"
   ]
  },
  {
   "cell_type": "markdown",
   "metadata": {},
   "source": [
    "## Strip Whitespace from beat column"
   ]
  },
  {
   "cell_type": "code",
   "execution_count": null,
   "metadata": {},
   "outputs": [],
   "source": [
    "df = df.apply(lambda x: x.str.strip() if x.dtype == \"object\" else x)"
   ]
  },
  {
   "cell_type": "markdown",
   "metadata": {},
   "source": [
    "---"
   ]
  },
  {
   "cell_type": "markdown",
   "metadata": {},
   "source": [
    "## Categorize weapons ordinally"
   ]
  },
  {
   "cell_type": "code",
   "execution_count": null,
   "metadata": {},
   "outputs": [],
   "source": [
    "df = df.replace(to_replace='-', value='None')\n",
    "df = df.replace(to_replace='Lethal Cutting Instrument', value='Blade')\n",
    "df = df.replace(to_replace='Firearm Other', value='Firearm')\n",
    "df = df.replace(to_replace='Handgun', value='Firearm')\n",
    "df = df.replace(to_replace='Club, Blackjack, Brass Knuckles', value='Blunt Object')\n",
    "df = df.replace(to_replace='Knife/Cutting/Stabbing Instrument', value='Blade')\n",
    "df = df.replace(to_replace='Rifle', value='Firearm')\n",
    "df = df.replace(to_replace='Fire/Incendiary Device', value='Non-Lethal')\n",
    "df = df.replace(to_replace='Firearm (unk type)', value='Firearm')\n",
    "df = df.replace(to_replace='Other Firearm', value='Firearm')\n",
    "df = df.replace(to_replace='Club', value='Blunt Object')\n",
    "df = df.replace(to_replace='Mace/Pepper Spray', value='Non-Lethal')\n",
    "df = df.replace(to_replace='Blunt Object/Striking Implement', value='Blunt Object')\n",
    "df = df.replace(to_replace='Firearm', value='Firearm')\n",
    "df = df.replace(to_replace='Brass Knuckles', value='Blunt Object')\n",
    "df = df.replace(to_replace='Automatic Handgun', value='Firearm')\n",
    "df = df.replace(to_replace='Taser/Stun Gun', value='Non-Lethal')\n",
    "df = df.replace(to_replace='None/Not Applicable', value='None')\n",
    "df = df.replace(to_replace='Blackjack', value='Blunt Object')\n",
    "df = df.replace(to_replace='Shotgun', value='Firearm')"
   ]
  },
  {
   "cell_type": "markdown",
   "metadata": {},
   "source": [
    "---"
   ]
  },
  {
   "cell_type": "markdown",
   "metadata": {},
   "source": [
    "## Change frisk_flag none values to N"
   ]
  },
  {
   "cell_type": "code",
   "execution_count": null,
   "metadata": {},
   "outputs": [],
   "source": [
    "df = df.replace({'frisk_flag': {'None':'N'}})"
   ]
  },
  {
   "cell_type": "markdown",
   "metadata": {},
   "source": [
    "---"
   ]
  },
  {
   "cell_type": "markdown",
   "metadata": {},
   "source": [
    "## Change call_type to onview and calls"
   ]
  },
  {
   "cell_type": "code",
   "execution_count": null,
   "metadata": {},
   "outputs": [],
   "source": [
    "df = df.replace({'call_type': {'911':'call', \n",
    "                               'ONVIEW':'onview',\n",
    "                               'TELEPHONE OTHER, NOT 911':'call',\n",
    "                               'ALARM CALL (NOT POLICE ALARM)':'call',\n",
    "                               'TEXT MESSAGE':'call',\n",
    "                               'PROACTIVE (OFFICER INITIATED)':'onview'}})"
   ]
  },
  {
   "cell_type": "markdown",
   "metadata": {},
   "source": [
    "---"
   ]
  },
  {
   "cell_type": "markdown",
   "metadata": {},
   "source": [
    "## Change stop resolution to arrest or no arrest"
   ]
  },
  {
   "cell_type": "code",
   "execution_count": null,
   "metadata": {},
   "outputs": [],
   "source": [
    "df = df.replace({'stop_resolution': {'Offense Report':0,\n",
    "                                     'Arrest':1,\n",
    "                                     'Field Contact':0,\n",
    "                                     'Referred for Prosecution':0,\n",
    "                                     'Citation / Infraction':0}})"
   ]
  },
  {
   "cell_type": "markdown",
   "metadata": {},
   "source": [
    "---"
   ]
  },
  {
   "cell_type": "markdown",
   "metadata": {},
   "source": [
    "## Combine beats except for H1 and H2/H3 as they are on different sides of the map"
   ]
  },
  {
   "cell_type": "code",
   "execution_count": null,
   "metadata": {},
   "outputs": [],
   "source": [
    "df = df.replace(to_replace='B1', value='B')\n",
    "df = df.replace(to_replace='B2', value='B')\n",
    "df = df.replace(to_replace='B3', value='B')\n",
    "df = df.replace(to_replace='C1', value='C')\n",
    "df = df.replace(to_replace='C2', value='C')\n",
    "df = df.replace(to_replace='C3', value='C')\n",
    "df = df.replace(to_replace='D1', value='D')\n",
    "df = df.replace(to_replace='D2', value='D')\n",
    "df = df.replace(to_replace='D3', value='D')\n",
    "df = df.replace(to_replace='E1', value='E')\n",
    "df = df.replace(to_replace='E2', value='E')\n",
    "df = df.replace(to_replace='E3', value='E')\n",
    "df = df.replace(to_replace='F1', value='F')\n",
    "df = df.replace(to_replace='F2', value='F')\n",
    "df = df.replace(to_replace='F3', value='F')\n",
    "df = df.replace(to_replace='G1', value='G')\n",
    "df = df.replace(to_replace='G2', value='G')\n",
    "df = df.replace(to_replace='G3', value='G')\n",
    "df = df.replace(to_replace='J1', value='J')\n",
    "df = df.replace(to_replace='J2', value='J')\n",
    "df = df.replace(to_replace='J3', value='J')\n",
    "df = df.replace(to_replace='K1', value='K')\n",
    "df = df.replace(to_replace='K2', value='K')\n",
    "df = df.replace(to_replace='K3', value='K')\n",
    "df = df.replace(to_replace='L1', value='L')\n",
    "df = df.replace(to_replace='L2', value='L')\n",
    "df = df.replace(to_replace='L3', value='L')\n",
    "df = df.replace(to_replace='M1', value='M')\n",
    "df = df.replace(to_replace='M2', value='M')\n",
    "df = df.replace(to_replace='M3', value='M')\n",
    "df = df.replace(to_replace='N1', value='N')\n",
    "df = df.replace(to_replace='N2', value='N')\n",
    "df = df.replace(to_replace='N3', value='N')\n",
    "df = df.replace(to_replace='O1', value='O')\n",
    "df = df.replace(to_replace='O2', value='O')\n",
    "df = df.replace(to_replace='O3', value='O')\n",
    "df = df.replace(to_replace='Q1', value='Q')\n",
    "df = df.replace(to_replace='Q2', value='Q')\n",
    "df = df.replace(to_replace='Q3', value='Q')\n",
    "df = df.replace(to_replace='R1', value='R')\n",
    "df = df.replace(to_replace='R2', value='R')\n",
    "df = df.replace(to_replace='R3', value='R')\n",
    "df = df.replace(to_replace='S1', value='S')\n",
    "df = df.replace(to_replace='S2', value='S')\n",
    "df = df.replace(to_replace='S3', value='S')\n",
    "df = df.replace(to_replace='U1', value='U')\n",
    "df = df.replace(to_replace='U2', value='U')\n",
    "df = df.replace(to_replace='U3', value='U')\n",
    "df = df.replace(to_replace='W1', value='W')\n",
    "df = df.replace(to_replace='W2', value='W')\n",
    "df = df.replace(to_replace='W3', value='W')"
   ]
  },
  {
   "cell_type": "markdown",
   "metadata": {},
   "source": [
    "---"
   ]
  },
  {
   "cell_type": "markdown",
   "metadata": {},
   "source": [
    "## Change frisk_flag, subj_perceived_gender, , off_gender, and call_type to binary"
   ]
  },
  {
   "cell_type": "code",
   "execution_count": null,
   "metadata": {},
   "outputs": [],
   "source": [
    "df.frisk_flag = np.where(df.frisk_flag == 'N', 0, df.frisk_flag)\n",
    "df.frisk_flag = np.where(df.frisk_flag == 'Y', 1, df.frisk_flag)\n",
    "df.subj_perceived_gender = np.where(df.subj_perceived_gender == 'Male', 0, df.subj_perceived_gender)\n",
    "df.subj_perceived_gender = np.where(df.subj_perceived_gender == 'Female', 1, df.subj_perceived_gender)\n",
    "df.off_gender = np.where(df.off_gender == 'M', 0, df.off_gender)\n",
    "df.off_gender = np.where(df.off_gender == 'F', 1, df.off_gender)\n",
    "df.call_type = np.where(df.call_type == 'call', 0, df.call_type)\n",
    "df.call_type = np.where(df.call_type == 'onview', 1, df.call_type)"
   ]
  },
  {
   "cell_type": "markdown",
   "metadata": {},
   "source": [
    "---"
   ]
  },
  {
   "cell_type": "markdown",
   "metadata": {},
   "source": [
    "## Make categorical features with dummies"
   ]
  },
  {
   "cell_type": "code",
   "execution_count": null,
   "metadata": {},
   "outputs": [],
   "source": [
    "for col in ['beat', 'subj_age_group', 'weapon', 'subj_perceived_gender', 'off_race', 'subj_perceived_race', 'call_type']:\n",
    "    df[col] = df[col].astype('category')"
   ]
  },
  {
   "cell_type": "code",
   "execution_count": null,
   "metadata": {},
   "outputs": [],
   "source": [
    "df.dtypes"
   ]
  },
  {
   "cell_type": "code",
   "execution_count": null,
   "metadata": {},
   "outputs": [],
   "source": [
    "dummies_df = pd.get_dummies(df, columns=[\"subj_age_group\"], prefix=[\"subj_age\"])\n",
    "dummies_df = pd.get_dummies(df, columns=['weapon'], prefix=['weapon'])\n",
    "dummies_df = pd.get_dummies(df, columns=[\"subj_perceived_gender\"], prefix=[\"subj_gender\"])\n",
    "dummies_df = pd.get_dummies(df, columns=[\"off_race\"], prefix=[\"off_race\"])\n",
    "dummies_df = pd.get_dummies(df, columns=[\"subj_perceived_race\"], prefix=[\"subj_race\"])\n",
    "dummies_df = pd.get_dummies(df, columns=[\"call_type\"], prefix=[\"call_type\"])\n",
    "dummies_df = pd.get_dummies(df, columns=[\"beat\"], prefix=[\"beat\"])"
   ]
  },
  {
   "cell_type": "code",
   "execution_count": null,
   "metadata": {},
   "outputs": [],
   "source": [
    "dummies_df = pd.get_dummies(df, columns=[\"beat\"], prefix=[\"beat\"])"
   ]
  },
  {
   "cell_type": "code",
   "execution_count": null,
   "metadata": {},
   "outputs": [],
   "source": [
    "dummies_df = pd.get_dummies(df, columns=[\"subj_age_group\"], prefix=[\"subj_age\"])"
   ]
  },
  {
   "cell_type": "code",
   "execution_count": null,
   "metadata": {},
   "outputs": [],
   "source": [
    "dummies_df = dummies_df[dummies_df['call_type'] != 'None']"
   ]
  },
  {
   "cell_type": "code",
   "execution_count": null,
   "metadata": {},
   "outputs": [],
   "source": [
    "dummies_df = pd.get_dummies(df)"
   ]
  },
  {
   "cell_type": "code",
   "execution_count": null,
   "metadata": {},
   "outputs": [],
   "source": [
    "list(dummies_df.columns)"
   ]
  },
  {
   "cell_type": "code",
   "execution_count": null,
   "metadata": {},
   "outputs": [],
   "source": [
    "dummies_df.to_csv('cleaned_terry_stops_v2.csv', index=False) "
   ]
  },
  {
   "cell_type": "code",
   "execution_count": null,
   "metadata": {},
   "outputs": [],
   "source": [
    "df.to_csv('nc_terry_stops_v2.csv', index=False)"
   ]
  }
 ],
 "metadata": {
  "kernelspec": {
   "display_name": "Python 3",
   "language": "python",
   "name": "python3"
  },
  "language_info": {
   "codemirror_mode": {
    "name": "ipython",
    "version": 3
   },
   "file_extension": ".py",
   "mimetype": "text/x-python",
   "name": "python",
   "nbconvert_exporter": "python",
   "pygments_lexer": "ipython3",
   "version": "3.7.6"
  }
 },
 "nbformat": 4,
 "nbformat_minor": 4
}
